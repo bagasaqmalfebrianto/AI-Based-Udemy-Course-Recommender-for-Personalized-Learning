{
  "cells": [
    {
      "cell_type": "markdown",
      "metadata": {
        "id": "9AmbtYbJTN5A"
      },
      "source": [
        "# **Data Diri**"
      ]
    },
    {
      "cell_type": "markdown",
      "metadata": {
        "id": "Xt9CQlOyThXm"
      },
      "source": [
        "- Nama : Bagas Aqmal Febrianto\n",
        "- Email : bagasaqmal70@gmail.com"
      ]
    },
    {
      "cell_type": "markdown",
      "metadata": {
        "id": "h4hNAYxYTTgM"
      },
      "source": [
        "# Import Library"
      ]
    },
    {
      "cell_type": "code",
      "execution_count": 1,
      "metadata": {
        "colab": {
          "base_uri": "https://localhost:8080/"
        },
        "id": "ddnIGoqSxMEs",
        "outputId": "5347bc1a-847f-4f6f-f296-27d006bc5e33"
      },
      "outputs": [
        {
          "name": "stdout",
          "output_type": "stream",
          "text": [
            "Requirement already satisfied: langdetect in /usr/local/lib/python3.11/dist-packages (1.0.9)\n",
            "Requirement already satisfied: six in /usr/local/lib/python3.11/dist-packages (from langdetect) (1.17.0)\n"
          ]
        }
      ],
      "source": [
        "!pip install langdetect"
      ]
    },
    {
      "cell_type": "code",
      "execution_count": 2,
      "metadata": {
        "id": "i1f6AereTTzX"
      },
      "outputs": [],
      "source": [
        "from google.colab import files\n",
        "import pandas as pd\n",
        "import numpy as np\n",
        "from langdetect import detect\n",
        "from langdetect.lang_detect_exception import LangDetectException\n",
        "import matplotlib.pyplot as plt\n",
        "import seaborn as sns\n",
        "from sklearn.feature_extraction.text import TfidfVectorizer\n",
        "from sklearn.preprocessing import MinMaxScaler\n",
        "from sklearn.metrics.pairwise import cosine_similarity\n",
        "from scipy.sparse import hstack\n",
        "from scipy.sparse import csr_matrix"
      ]
    },
    {
      "cell_type": "markdown",
      "metadata": {
        "id": "3Y1ptwNQTVii"
      },
      "source": [
        "# Data Load"
      ]
    },
    {
      "cell_type": "markdown",
      "metadata": {
        "id": "7vghYvd4MLZI"
      },
      "source": [
        "**Informasi Dataset**\n",
        "\n",
        "Dataset ini merupakan dataset Course Udemy.\n",
        "\n",
        "Link Dataset : https://www.kaggle.com/datasets/jilkothari/finance-accounting-courses-udemy-13k-course"
      ]
    },
    {
      "cell_type": "code",
      "execution_count": 3,
      "metadata": {
        "colab": {
          "base_uri": "https://localhost:8080/",
          "height": 88
        },
        "id": "m_sSvUXrTVzp",
        "outputId": "b20513ef-a132-4bc2-de57-a6b0b779d1e5"
      },
      "outputs": [
        {
          "data": {
            "text/html": [
              "\n",
              "     <input type=\"file\" id=\"files-db6e79f8-8ef0-45bd-9923-43ec11ccbebf\" name=\"files[]\" multiple disabled\n",
              "        style=\"border:none\" />\n",
              "     <output id=\"result-db6e79f8-8ef0-45bd-9923-43ec11ccbebf\">\n",
              "      Upload widget is only available when the cell has been executed in the\n",
              "      current browser session. Please rerun this cell to enable.\n",
              "      </output>\n",
              "      <script>// Copyright 2017 Google LLC\n",
              "//\n",
              "// Licensed under the Apache License, Version 2.0 (the \"License\");\n",
              "// you may not use this file except in compliance with the License.\n",
              "// You may obtain a copy of the License at\n",
              "//\n",
              "//      http://www.apache.org/licenses/LICENSE-2.0\n",
              "//\n",
              "// Unless required by applicable law or agreed to in writing, software\n",
              "// distributed under the License is distributed on an \"AS IS\" BASIS,\n",
              "// WITHOUT WARRANTIES OR CONDITIONS OF ANY KIND, either express or implied.\n",
              "// See the License for the specific language governing permissions and\n",
              "// limitations under the License.\n",
              "\n",
              "/**\n",
              " * @fileoverview Helpers for google.colab Python module.\n",
              " */\n",
              "(function(scope) {\n",
              "function span(text, styleAttributes = {}) {\n",
              "  const element = document.createElement('span');\n",
              "  element.textContent = text;\n",
              "  for (const key of Object.keys(styleAttributes)) {\n",
              "    element.style[key] = styleAttributes[key];\n",
              "  }\n",
              "  return element;\n",
              "}\n",
              "\n",
              "// Max number of bytes which will be uploaded at a time.\n",
              "const MAX_PAYLOAD_SIZE = 100 * 1024;\n",
              "\n",
              "function _uploadFiles(inputId, outputId) {\n",
              "  const steps = uploadFilesStep(inputId, outputId);\n",
              "  const outputElement = document.getElementById(outputId);\n",
              "  // Cache steps on the outputElement to make it available for the next call\n",
              "  // to uploadFilesContinue from Python.\n",
              "  outputElement.steps = steps;\n",
              "\n",
              "  return _uploadFilesContinue(outputId);\n",
              "}\n",
              "\n",
              "// This is roughly an async generator (not supported in the browser yet),\n",
              "// where there are multiple asynchronous steps and the Python side is going\n",
              "// to poll for completion of each step.\n",
              "// This uses a Promise to block the python side on completion of each step,\n",
              "// then passes the result of the previous step as the input to the next step.\n",
              "function _uploadFilesContinue(outputId) {\n",
              "  const outputElement = document.getElementById(outputId);\n",
              "  const steps = outputElement.steps;\n",
              "\n",
              "  const next = steps.next(outputElement.lastPromiseValue);\n",
              "  return Promise.resolve(next.value.promise).then((value) => {\n",
              "    // Cache the last promise value to make it available to the next\n",
              "    // step of the generator.\n",
              "    outputElement.lastPromiseValue = value;\n",
              "    return next.value.response;\n",
              "  });\n",
              "}\n",
              "\n",
              "/**\n",
              " * Generator function which is called between each async step of the upload\n",
              " * process.\n",
              " * @param {string} inputId Element ID of the input file picker element.\n",
              " * @param {string} outputId Element ID of the output display.\n",
              " * @return {!Iterable<!Object>} Iterable of next steps.\n",
              " */\n",
              "function* uploadFilesStep(inputId, outputId) {\n",
              "  const inputElement = document.getElementById(inputId);\n",
              "  inputElement.disabled = false;\n",
              "\n",
              "  const outputElement = document.getElementById(outputId);\n",
              "  outputElement.innerHTML = '';\n",
              "\n",
              "  const pickedPromise = new Promise((resolve) => {\n",
              "    inputElement.addEventListener('change', (e) => {\n",
              "      resolve(e.target.files);\n",
              "    });\n",
              "  });\n",
              "\n",
              "  const cancel = document.createElement('button');\n",
              "  inputElement.parentElement.appendChild(cancel);\n",
              "  cancel.textContent = 'Cancel upload';\n",
              "  const cancelPromise = new Promise((resolve) => {\n",
              "    cancel.onclick = () => {\n",
              "      resolve(null);\n",
              "    };\n",
              "  });\n",
              "\n",
              "  // Wait for the user to pick the files.\n",
              "  const files = yield {\n",
              "    promise: Promise.race([pickedPromise, cancelPromise]),\n",
              "    response: {\n",
              "      action: 'starting',\n",
              "    }\n",
              "  };\n",
              "\n",
              "  cancel.remove();\n",
              "\n",
              "  // Disable the input element since further picks are not allowed.\n",
              "  inputElement.disabled = true;\n",
              "\n",
              "  if (!files) {\n",
              "    return {\n",
              "      response: {\n",
              "        action: 'complete',\n",
              "      }\n",
              "    };\n",
              "  }\n",
              "\n",
              "  for (const file of files) {\n",
              "    const li = document.createElement('li');\n",
              "    li.append(span(file.name, {fontWeight: 'bold'}));\n",
              "    li.append(span(\n",
              "        `(${file.type || 'n/a'}) - ${file.size} bytes, ` +\n",
              "        `last modified: ${\n",
              "            file.lastModifiedDate ? file.lastModifiedDate.toLocaleDateString() :\n",
              "                                    'n/a'} - `));\n",
              "    const percent = span('0% done');\n",
              "    li.appendChild(percent);\n",
              "\n",
              "    outputElement.appendChild(li);\n",
              "\n",
              "    const fileDataPromise = new Promise((resolve) => {\n",
              "      const reader = new FileReader();\n",
              "      reader.onload = (e) => {\n",
              "        resolve(e.target.result);\n",
              "      };\n",
              "      reader.readAsArrayBuffer(file);\n",
              "    });\n",
              "    // Wait for the data to be ready.\n",
              "    let fileData = yield {\n",
              "      promise: fileDataPromise,\n",
              "      response: {\n",
              "        action: 'continue',\n",
              "      }\n",
              "    };\n",
              "\n",
              "    // Use a chunked sending to avoid message size limits. See b/62115660.\n",
              "    let position = 0;\n",
              "    do {\n",
              "      const length = Math.min(fileData.byteLength - position, MAX_PAYLOAD_SIZE);\n",
              "      const chunk = new Uint8Array(fileData, position, length);\n",
              "      position += length;\n",
              "\n",
              "      const base64 = btoa(String.fromCharCode.apply(null, chunk));\n",
              "      yield {\n",
              "        response: {\n",
              "          action: 'append',\n",
              "          file: file.name,\n",
              "          data: base64,\n",
              "        },\n",
              "      };\n",
              "\n",
              "      let percentDone = fileData.byteLength === 0 ?\n",
              "          100 :\n",
              "          Math.round((position / fileData.byteLength) * 100);\n",
              "      percent.textContent = `${percentDone}% done`;\n",
              "\n",
              "    } while (position < fileData.byteLength);\n",
              "  }\n",
              "\n",
              "  // All done.\n",
              "  yield {\n",
              "    response: {\n",
              "      action: 'complete',\n",
              "    }\n",
              "  };\n",
              "}\n",
              "\n",
              "scope.google = scope.google || {};\n",
              "scope.google.colab = scope.google.colab || {};\n",
              "scope.google.colab._files = {\n",
              "  _uploadFiles,\n",
              "  _uploadFilesContinue,\n",
              "};\n",
              "})(self);\n",
              "</script> "
            ],
            "text/plain": [
              "<IPython.core.display.HTML object>"
            ]
          },
          "metadata": {},
          "output_type": "display_data"
        },
        {
          "name": "stdout",
          "output_type": "stream",
          "text": [
            "Saving kaggle.json to kaggle.json\n"
          ]
        },
        {
          "data": {
            "text/plain": [
              "{'kaggle.json': b'{\"username\":\"bagasaqmalfebrianto\",\"key\":\"23dd9a6a0b31d5608075cfafbadbb321\"}'}"
            ]
          },
          "execution_count": 3,
          "metadata": {},
          "output_type": "execute_result"
        }
      ],
      "source": [
        "files.upload()"
      ]
    },
    {
      "cell_type": "code",
      "execution_count": 4,
      "metadata": {
        "id": "ygXR2y_BUhXt"
      },
      "outputs": [],
      "source": [
        "!mkdir -p ~/.kaggle\n",
        "\n",
        "# Pindahkan kaggle.json ke direktori .kaggle\n",
        "!mv kaggle.json ~/.kaggle/\n",
        "\n",
        "# Berikan izin ke file agar bisa digunakan\n",
        "!chmod 600 ~/.kaggle/kaggle.json"
      ]
    },
    {
      "cell_type": "code",
      "execution_count": 5,
      "metadata": {
        "colab": {
          "base_uri": "https://localhost:8080/"
        },
        "id": "4g5Ho6LTVuJT",
        "outputId": "f80d7b0c-062b-46bd-a37e-00683a6421c3"
      },
      "outputs": [
        {
          "name": "stdout",
          "output_type": "stream",
          "text": [
            "Dataset URL: https://www.kaggle.com/datasets/jilkothari/finance-accounting-courses-udemy-13k-course\n",
            "License(s): CC0-1.0\n",
            "finance-accounting-courses-udemy-13k-course.zip: Skipping, found more recently modified local copy (use --force to force download)\n",
            "Archive:  finance-accounting-courses-udemy-13k-course.zip\n",
            "replace udemy_output_All_Finance__Accounting_p1_p626.csv? [y]es, [n]o, [A]ll, [N]one, [r]ename: yes\n",
            "  inflating: udemy_output_All_Finance__Accounting_p1_p626.csv  \n"
          ]
        }
      ],
      "source": [
        "!kaggle datasets download -d jilkothari/finance-accounting-courses-udemy-13k-course\n",
        "!unzip finance-accounting-courses-udemy-13k-course.zip"
      ]
    },
    {
      "cell_type": "code",
      "execution_count": 6,
      "metadata": {
        "id": "MsEO7ZuwWAuJ"
      },
      "outputs": [],
      "source": [
        "df = pd.read_csv('udemy_output_All_Finance__Accounting_p1_p626.csv')"
      ]
    },
    {
      "cell_type": "markdown",
      "metadata": {
        "id": "jtQmwn0uK4rq"
      },
      "source": [
        "# Data Understanding"
      ]
    },
    {
      "cell_type": "markdown",
      "metadata": {
        "id": "I6zZak0wMfpi"
      },
      "source": [
        "## **Deskripsi Variabel**"
      ]
    },
    {
      "cell_type": "markdown",
      "metadata": {
        "id": "R92C6638MSQi"
      },
      "source": [
        "Berikut ini dalah penjelasan dari fitur yang terdapat pada dataset :\n",
        "\n",
        "- id : ID kursus dari kursus tersebut.\n",
        "\n",
        "- title : Menampilkan nama unik dari kursus yang tersedia dalam kategori pengembangan di Udemy.\n",
        "\n",
        "- url : Memberikan URL atau tautan ke kursus tersebut.\n",
        "\n",
        "- is_paid : Mengembalikan nilai boolean (Benar/Salah) yang menunjukkan apakah kursus tersebut berbayar (True) atau gratis (False).\n",
        "\n",
        "- num_subscribers : Menampilkan jumlah orang yang telah berlangganan kursus tersebut.\n",
        "\n",
        "- avg_rating : Menampilkan nilai rata-rata dari rating kursus secara keseluruhan.\n",
        "\n",
        "- avg_rating_recent : Menunjukkan perubahan rata-rata rating terbaru (dalam periode waktu tertentu).\n",
        "\n",
        "- num_reviews : Memberikan gambaran tentang jumlah ulasan (rating + review) yang telah diterima oleh kursus tersebut.\n",
        "\n",
        "- num_published_lectures : Menampilkan jumlah materi/ceramah yang ditawarkan oleh kursus.\n",
        "\n",
        "- num_published_practice_tests : Memberikan gambaran mengenai jumlah soal latihan yang disediakan oleh kursus.\n",
        "\n",
        "- created : Waktu pembuatan kursus.\n",
        "\n",
        "- published_time : Waktu ketika kursus tersebut dipublikasikan di Udemy.\n",
        "\n",
        "- discounted_price_amount : Harga diskon yang sedang ditawarkan untuk kursus tersebut.\n",
        "\n",
        "- discounted_price_currency : Mata uang yang digunakan untuk harga diskon tersebut.\n",
        "\n",
        "- price_detail_amount : Harga asli (sebelum diskon) dari kursus.\n",
        "\n",
        "- price_detail_currency : Mata uang yang digunakan untuk harga asli kursus tersebut."
      ]
    },
    {
      "cell_type": "code",
      "execution_count": 7,
      "metadata": {
        "colab": {
          "base_uri": "https://localhost:8080/",
          "height": 895
        },
        "id": "WCka2E__K3Z7",
        "outputId": "07d9ed07-7837-4749-96cb-12c7b87d58d2"
      },
      "outputs": [
        {
          "data": {
            "text/html": [
              "\n",
              "  <div id=\"df-8be42342-0ea6-4fe3-be74-d12ced35e80b\" class=\"colab-df-container\">\n",
              "    <div>\n",
              "<style scoped>\n",
              "    .dataframe tbody tr th:only-of-type {\n",
              "        vertical-align: middle;\n",
              "    }\n",
              "\n",
              "    .dataframe tbody tr th {\n",
              "        vertical-align: top;\n",
              "    }\n",
              "\n",
              "    .dataframe thead th {\n",
              "        text-align: right;\n",
              "    }\n",
              "</style>\n",
              "<table border=\"1\" class=\"dataframe\">\n",
              "  <thead>\n",
              "    <tr style=\"text-align: right;\">\n",
              "      <th></th>\n",
              "      <th>id</th>\n",
              "      <th>title</th>\n",
              "      <th>url</th>\n",
              "      <th>is_paid</th>\n",
              "      <th>num_subscribers</th>\n",
              "      <th>avg_rating</th>\n",
              "      <th>avg_rating_recent</th>\n",
              "      <th>rating</th>\n",
              "      <th>num_reviews</th>\n",
              "      <th>is_wishlisted</th>\n",
              "      <th>num_published_lectures</th>\n",
              "      <th>num_published_practice_tests</th>\n",
              "      <th>created</th>\n",
              "      <th>published_time</th>\n",
              "      <th>discount_price__amount</th>\n",
              "      <th>discount_price__currency</th>\n",
              "      <th>discount_price__price_string</th>\n",
              "      <th>price_detail__amount</th>\n",
              "      <th>price_detail__currency</th>\n",
              "      <th>price_detail__price_string</th>\n",
              "    </tr>\n",
              "  </thead>\n",
              "  <tbody>\n",
              "    <tr>\n",
              "      <th>0</th>\n",
              "      <td>762616</td>\n",
              "      <td>The Complete SQL Bootcamp 2020: Go from Zero t...</td>\n",
              "      <td>/course/the-complete-sql-bootcamp/</td>\n",
              "      <td>True</td>\n",
              "      <td>295509</td>\n",
              "      <td>4.66019</td>\n",
              "      <td>4.67874</td>\n",
              "      <td>4.67874</td>\n",
              "      <td>78006</td>\n",
              "      <td>False</td>\n",
              "      <td>84</td>\n",
              "      <td>0</td>\n",
              "      <td>2016-02-14T22:57:48Z</td>\n",
              "      <td>2016-04-06T05:16:11Z</td>\n",
              "      <td>455.0</td>\n",
              "      <td>INR</td>\n",
              "      <td>₹455</td>\n",
              "      <td>8640.0</td>\n",
              "      <td>INR</td>\n",
              "      <td>₹8,640</td>\n",
              "    </tr>\n",
              "    <tr>\n",
              "      <th>1</th>\n",
              "      <td>937678</td>\n",
              "      <td>Tableau 2020 A-Z: Hands-On Tableau Training fo...</td>\n",
              "      <td>/course/tableau10/</td>\n",
              "      <td>True</td>\n",
              "      <td>209070</td>\n",
              "      <td>4.58956</td>\n",
              "      <td>4.60015</td>\n",
              "      <td>4.60015</td>\n",
              "      <td>54581</td>\n",
              "      <td>False</td>\n",
              "      <td>78</td>\n",
              "      <td>0</td>\n",
              "      <td>2016-08-22T12:10:18Z</td>\n",
              "      <td>2016-08-23T16:59:49Z</td>\n",
              "      <td>455.0</td>\n",
              "      <td>INR</td>\n",
              "      <td>₹455</td>\n",
              "      <td>8640.0</td>\n",
              "      <td>INR</td>\n",
              "      <td>₹8,640</td>\n",
              "    </tr>\n",
              "    <tr>\n",
              "      <th>2</th>\n",
              "      <td>1361790</td>\n",
              "      <td>PMP Exam Prep Seminar -  PMBOK Guide 6</td>\n",
              "      <td>/course/pmp-pmbok6-35-pdus/</td>\n",
              "      <td>True</td>\n",
              "      <td>155282</td>\n",
              "      <td>4.59491</td>\n",
              "      <td>4.59326</td>\n",
              "      <td>4.59326</td>\n",
              "      <td>52653</td>\n",
              "      <td>False</td>\n",
              "      <td>292</td>\n",
              "      <td>2</td>\n",
              "      <td>2017-09-26T16:32:48Z</td>\n",
              "      <td>2017-11-14T23:58:14Z</td>\n",
              "      <td>455.0</td>\n",
              "      <td>INR</td>\n",
              "      <td>₹455</td>\n",
              "      <td>8640.0</td>\n",
              "      <td>INR</td>\n",
              "      <td>₹8,640</td>\n",
              "    </tr>\n",
              "    <tr>\n",
              "      <th>3</th>\n",
              "      <td>648826</td>\n",
              "      <td>The Complete Financial Analyst Course 2020</td>\n",
              "      <td>/course/the-complete-financial-analyst-course/</td>\n",
              "      <td>True</td>\n",
              "      <td>245860</td>\n",
              "      <td>4.54407</td>\n",
              "      <td>4.53772</td>\n",
              "      <td>4.53772</td>\n",
              "      <td>46447</td>\n",
              "      <td>False</td>\n",
              "      <td>338</td>\n",
              "      <td>0</td>\n",
              "      <td>2015-10-23T13:34:35Z</td>\n",
              "      <td>2016-01-21T01:38:48Z</td>\n",
              "      <td>455.0</td>\n",
              "      <td>INR</td>\n",
              "      <td>₹455</td>\n",
              "      <td>8640.0</td>\n",
              "      <td>INR</td>\n",
              "      <td>₹8,640</td>\n",
              "    </tr>\n",
              "    <tr>\n",
              "      <th>4</th>\n",
              "      <td>637930</td>\n",
              "      <td>An Entire MBA in 1 Course:Award Winning Busine...</td>\n",
              "      <td>/course/an-entire-mba-in-1-courseaward-winning...</td>\n",
              "      <td>True</td>\n",
              "      <td>374836</td>\n",
              "      <td>4.47080</td>\n",
              "      <td>4.47173</td>\n",
              "      <td>4.47173</td>\n",
              "      <td>41630</td>\n",
              "      <td>False</td>\n",
              "      <td>83</td>\n",
              "      <td>0</td>\n",
              "      <td>2015-10-12T06:39:46Z</td>\n",
              "      <td>2016-01-11T21:39:33Z</td>\n",
              "      <td>455.0</td>\n",
              "      <td>INR</td>\n",
              "      <td>₹455</td>\n",
              "      <td>8640.0</td>\n",
              "      <td>INR</td>\n",
              "      <td>₹8,640</td>\n",
              "    </tr>\n",
              "    <tr>\n",
              "      <th>...</th>\n",
              "      <td>...</td>\n",
              "      <td>...</td>\n",
              "      <td>...</td>\n",
              "      <td>...</td>\n",
              "      <td>...</td>\n",
              "      <td>...</td>\n",
              "      <td>...</td>\n",
              "      <td>...</td>\n",
              "      <td>...</td>\n",
              "      <td>...</td>\n",
              "      <td>...</td>\n",
              "      <td>...</td>\n",
              "      <td>...</td>\n",
              "      <td>...</td>\n",
              "      <td>...</td>\n",
              "      <td>...</td>\n",
              "      <td>...</td>\n",
              "      <td>...</td>\n",
              "      <td>...</td>\n",
              "      <td>...</td>\n",
              "    </tr>\n",
              "    <tr>\n",
              "      <th>13603</th>\n",
              "      <td>3005408</td>\n",
              "      <td>מושגים בסיסיים באופציות חלק ב</td>\n",
              "      <td>/course/1-ndgzhu/</td>\n",
              "      <td>False</td>\n",
              "      <td>47</td>\n",
              "      <td>0.00000</td>\n",
              "      <td>0.00000</td>\n",
              "      <td>0.00000</td>\n",
              "      <td>0</td>\n",
              "      <td>False</td>\n",
              "      <td>6</td>\n",
              "      <td>0</td>\n",
              "      <td>2020-04-15T10:20:17Z</td>\n",
              "      <td>2020-04-23T02:06:55Z</td>\n",
              "      <td>NaN</td>\n",
              "      <td>NaN</td>\n",
              "      <td>NaN</td>\n",
              "      <td>NaN</td>\n",
              "      <td>NaN</td>\n",
              "      <td>NaN</td>\n",
              "    </tr>\n",
              "    <tr>\n",
              "      <th>13604</th>\n",
              "      <td>3467284</td>\n",
              "      <td>Programa de Integridade</td>\n",
              "      <td>/course/iaudit_programa_de_integridade/</td>\n",
              "      <td>False</td>\n",
              "      <td>19</td>\n",
              "      <td>0.00000</td>\n",
              "      <td>0.00000</td>\n",
              "      <td>0.00000</td>\n",
              "      <td>0</td>\n",
              "      <td>False</td>\n",
              "      <td>5</td>\n",
              "      <td>0</td>\n",
              "      <td>2020-09-01T17:57:15Z</td>\n",
              "      <td>2020-09-03T15:26:47Z</td>\n",
              "      <td>NaN</td>\n",
              "      <td>NaN</td>\n",
              "      <td>NaN</td>\n",
              "      <td>NaN</td>\n",
              "      <td>NaN</td>\n",
              "      <td>NaN</td>\n",
              "    </tr>\n",
              "    <tr>\n",
              "      <th>13605</th>\n",
              "      <td>3368222</td>\n",
              "      <td>Goodwill and Method of Calculating Goodwill (A...</td>\n",
              "      <td>/course/goodwill-and-method-of-calculating-goo...</td>\n",
              "      <td>False</td>\n",
              "      <td>47</td>\n",
              "      <td>0.00000</td>\n",
              "      <td>0.00000</td>\n",
              "      <td>0.00000</td>\n",
              "      <td>0</td>\n",
              "      <td>False</td>\n",
              "      <td>5</td>\n",
              "      <td>0</td>\n",
              "      <td>2020-07-27T02:29:18Z</td>\n",
              "      <td>2020-07-31T12:14:40Z</td>\n",
              "      <td>NaN</td>\n",
              "      <td>NaN</td>\n",
              "      <td>NaN</td>\n",
              "      <td>NaN</td>\n",
              "      <td>NaN</td>\n",
              "      <td>NaN</td>\n",
              "    </tr>\n",
              "    <tr>\n",
              "      <th>13606</th>\n",
              "      <td>3211345</td>\n",
              "      <td>Poderoso Investidor</td>\n",
              "      <td>/course/poderoso-investidor/</td>\n",
              "      <td>False</td>\n",
              "      <td>48</td>\n",
              "      <td>0.00000</td>\n",
              "      <td>0.00000</td>\n",
              "      <td>0.00000</td>\n",
              "      <td>0</td>\n",
              "      <td>False</td>\n",
              "      <td>13</td>\n",
              "      <td>0</td>\n",
              "      <td>2020-06-07T01:29:53Z</td>\n",
              "      <td>2020-07-15T10:35:38Z</td>\n",
              "      <td>NaN</td>\n",
              "      <td>NaN</td>\n",
              "      <td>NaN</td>\n",
              "      <td>NaN</td>\n",
              "      <td>NaN</td>\n",
              "      <td>NaN</td>\n",
              "    </tr>\n",
              "    <tr>\n",
              "      <th>13607</th>\n",
              "      <td>2935720</td>\n",
              "      <td>Acabou a Previdência e agora? -  Volume 03</td>\n",
              "      <td>/course/acabou-a-previdencia-e-agora-volume-03/</td>\n",
              "      <td>True</td>\n",
              "      <td>0</td>\n",
              "      <td>0.00000</td>\n",
              "      <td>0.00000</td>\n",
              "      <td>0.00000</td>\n",
              "      <td>0</td>\n",
              "      <td>False</td>\n",
              "      <td>14</td>\n",
              "      <td>0</td>\n",
              "      <td>2020-03-30T19:10:58Z</td>\n",
              "      <td>2020-04-02T16:33:32Z</td>\n",
              "      <td>NaN</td>\n",
              "      <td>NaN</td>\n",
              "      <td>NaN</td>\n",
              "      <td>NaN</td>\n",
              "      <td>NaN</td>\n",
              "      <td>NaN</td>\n",
              "    </tr>\n",
              "  </tbody>\n",
              "</table>\n",
              "<p>13608 rows × 20 columns</p>\n",
              "</div>\n",
              "    <div class=\"colab-df-buttons\">\n",
              "      \n",
              "  <div class=\"colab-df-container\">\n",
              "    <button class=\"colab-df-convert\" onclick=\"convertToInteractive('df-8be42342-0ea6-4fe3-be74-d12ced35e80b')\"\n",
              "            title=\"Convert this dataframe to an interactive table.\"\n",
              "            style=\"display:none;\">\n",
              "      \n",
              "  <svg xmlns=\"http://www.w3.org/2000/svg\" height=\"24px\" viewBox=\"0 -960 960 960\">\n",
              "    <path d=\"M120-120v-720h720v720H120Zm60-500h600v-160H180v160Zm220 220h160v-160H400v160Zm0 220h160v-160H400v160ZM180-400h160v-160H180v160Zm440 0h160v-160H620v160ZM180-180h160v-160H180v160Zm440 0h160v-160H620v160Z\"/>\n",
              "  </svg>\n",
              "    </button>\n",
              "    \n",
              "  <style>\n",
              "    .colab-df-container {\n",
              "      display:flex;\n",
              "      gap: 12px;\n",
              "    }\n",
              "\n",
              "    .colab-df-convert {\n",
              "      background-color: #E8F0FE;\n",
              "      border: none;\n",
              "      border-radius: 50%;\n",
              "      cursor: pointer;\n",
              "      display: none;\n",
              "      fill: #1967D2;\n",
              "      height: 32px;\n",
              "      padding: 0 0 0 0;\n",
              "      width: 32px;\n",
              "    }\n",
              "\n",
              "    .colab-df-convert:hover {\n",
              "      background-color: #E2EBFA;\n",
              "      box-shadow: 0px 1px 2px rgba(60, 64, 67, 0.3), 0px 1px 3px 1px rgba(60, 64, 67, 0.15);\n",
              "      fill: #174EA6;\n",
              "    }\n",
              "\n",
              "    .colab-df-buttons div {\n",
              "      margin-bottom: 4px;\n",
              "    }\n",
              "\n",
              "    [theme=dark] .colab-df-convert {\n",
              "      background-color: #3B4455;\n",
              "      fill: #D2E3FC;\n",
              "    }\n",
              "\n",
              "    [theme=dark] .colab-df-convert:hover {\n",
              "      background-color: #434B5C;\n",
              "      box-shadow: 0px 1px 3px 1px rgba(0, 0, 0, 0.15);\n",
              "      filter: drop-shadow(0px 1px 2px rgba(0, 0, 0, 0.3));\n",
              "      fill: #FFFFFF;\n",
              "    }\n",
              "  </style>\n",
              "\n",
              "    <script>\n",
              "      const buttonEl =\n",
              "        document.querySelector('#df-8be42342-0ea6-4fe3-be74-d12ced35e80b button.colab-df-convert');\n",
              "      buttonEl.style.display =\n",
              "        google.colab.kernel.accessAllowed ? 'block' : 'none';\n",
              "\n",
              "      async function convertToInteractive(key) {\n",
              "        const element = document.querySelector('#df-8be42342-0ea6-4fe3-be74-d12ced35e80b');\n",
              "        const dataTable =\n",
              "          await google.colab.kernel.invokeFunction('convertToInteractive',\n",
              "                                                    [key], {});\n",
              "        if (!dataTable) return;\n",
              "\n",
              "        const docLinkHtml = 'Like what you see? Visit the ' +\n",
              "          '<a target=\"_blank\" href=https://colab.research.google.com/notebooks/data_table.ipynb>data table notebook</a>'\n",
              "          + ' to learn more about interactive tables.';\n",
              "        element.innerHTML = '';\n",
              "        dataTable['output_type'] = 'display_data';\n",
              "        await google.colab.output.renderOutput(dataTable, element);\n",
              "        const docLink = document.createElement('div');\n",
              "        docLink.innerHTML = docLinkHtml;\n",
              "        element.appendChild(docLink);\n",
              "      }\n",
              "    </script>\n",
              "  </div>\n",
              "  \n",
              "    </div>\n",
              "  </div>\n",
              "  "
            ],
            "text/plain": [
              "            id                                              title  \\\n",
              "0       762616  The Complete SQL Bootcamp 2020: Go from Zero t...   \n",
              "1       937678  Tableau 2020 A-Z: Hands-On Tableau Training fo...   \n",
              "2      1361790             PMP Exam Prep Seminar -  PMBOK Guide 6   \n",
              "3       648826         The Complete Financial Analyst Course 2020   \n",
              "4       637930  An Entire MBA in 1 Course:Award Winning Busine...   \n",
              "...        ...                                                ...   \n",
              "13603  3005408                      מושגים בסיסיים באופציות חלק ב   \n",
              "13604  3467284                            Programa de Integridade   \n",
              "13605  3368222  Goodwill and Method of Calculating Goodwill (A...   \n",
              "13606  3211345                                Poderoso Investidor   \n",
              "13607  2935720         Acabou a Previdência e agora? -  Volume 03   \n",
              "\n",
              "                                                     url  is_paid  \\\n",
              "0                     /course/the-complete-sql-bootcamp/     True   \n",
              "1                                     /course/tableau10/     True   \n",
              "2                            /course/pmp-pmbok6-35-pdus/     True   \n",
              "3         /course/the-complete-financial-analyst-course/     True   \n",
              "4      /course/an-entire-mba-in-1-courseaward-winning...     True   \n",
              "...                                                  ...      ...   \n",
              "13603                                  /course/1-ndgzhu/    False   \n",
              "13604            /course/iaudit_programa_de_integridade/    False   \n",
              "13605  /course/goodwill-and-method-of-calculating-goo...    False   \n",
              "13606                       /course/poderoso-investidor/    False   \n",
              "13607    /course/acabou-a-previdencia-e-agora-volume-03/     True   \n",
              "\n",
              "       num_subscribers  avg_rating  avg_rating_recent   rating  num_reviews  \\\n",
              "0               295509     4.66019            4.67874  4.67874        78006   \n",
              "1               209070     4.58956            4.60015  4.60015        54581   \n",
              "2               155282     4.59491            4.59326  4.59326        52653   \n",
              "3               245860     4.54407            4.53772  4.53772        46447   \n",
              "4               374836     4.47080            4.47173  4.47173        41630   \n",
              "...                ...         ...                ...      ...          ...   \n",
              "13603               47     0.00000            0.00000  0.00000            0   \n",
              "13604               19     0.00000            0.00000  0.00000            0   \n",
              "13605               47     0.00000            0.00000  0.00000            0   \n",
              "13606               48     0.00000            0.00000  0.00000            0   \n",
              "13607                0     0.00000            0.00000  0.00000            0   \n",
              "\n",
              "       is_wishlisted  num_published_lectures  num_published_practice_tests  \\\n",
              "0              False                      84                             0   \n",
              "1              False                      78                             0   \n",
              "2              False                     292                             2   \n",
              "3              False                     338                             0   \n",
              "4              False                      83                             0   \n",
              "...              ...                     ...                           ...   \n",
              "13603          False                       6                             0   \n",
              "13604          False                       5                             0   \n",
              "13605          False                       5                             0   \n",
              "13606          False                      13                             0   \n",
              "13607          False                      14                             0   \n",
              "\n",
              "                    created        published_time  discount_price__amount  \\\n",
              "0      2016-02-14T22:57:48Z  2016-04-06T05:16:11Z                   455.0   \n",
              "1      2016-08-22T12:10:18Z  2016-08-23T16:59:49Z                   455.0   \n",
              "2      2017-09-26T16:32:48Z  2017-11-14T23:58:14Z                   455.0   \n",
              "3      2015-10-23T13:34:35Z  2016-01-21T01:38:48Z                   455.0   \n",
              "4      2015-10-12T06:39:46Z  2016-01-11T21:39:33Z                   455.0   \n",
              "...                     ...                   ...                     ...   \n",
              "13603  2020-04-15T10:20:17Z  2020-04-23T02:06:55Z                     NaN   \n",
              "13604  2020-09-01T17:57:15Z  2020-09-03T15:26:47Z                     NaN   \n",
              "13605  2020-07-27T02:29:18Z  2020-07-31T12:14:40Z                     NaN   \n",
              "13606  2020-06-07T01:29:53Z  2020-07-15T10:35:38Z                     NaN   \n",
              "13607  2020-03-30T19:10:58Z  2020-04-02T16:33:32Z                     NaN   \n",
              "\n",
              "      discount_price__currency discount_price__price_string  \\\n",
              "0                          INR                         ₹455   \n",
              "1                          INR                         ₹455   \n",
              "2                          INR                         ₹455   \n",
              "3                          INR                         ₹455   \n",
              "4                          INR                         ₹455   \n",
              "...                        ...                          ...   \n",
              "13603                      NaN                          NaN   \n",
              "13604                      NaN                          NaN   \n",
              "13605                      NaN                          NaN   \n",
              "13606                      NaN                          NaN   \n",
              "13607                      NaN                          NaN   \n",
              "\n",
              "       price_detail__amount price_detail__currency price_detail__price_string  \n",
              "0                    8640.0                    INR                     ₹8,640  \n",
              "1                    8640.0                    INR                     ₹8,640  \n",
              "2                    8640.0                    INR                     ₹8,640  \n",
              "3                    8640.0                    INR                     ₹8,640  \n",
              "4                    8640.0                    INR                     ₹8,640  \n",
              "...                     ...                    ...                        ...  \n",
              "13603                   NaN                    NaN                        NaN  \n",
              "13604                   NaN                    NaN                        NaN  \n",
              "13605                   NaN                    NaN                        NaN  \n",
              "13606                   NaN                    NaN                        NaN  \n",
              "13607                   NaN                    NaN                        NaN  \n",
              "\n",
              "[13608 rows x 20 columns]"
            ]
          },
          "execution_count": 7,
          "metadata": {},
          "output_type": "execute_result"
        }
      ],
      "source": [
        "df"
      ]
    },
    {
      "cell_type": "code",
      "execution_count": 8,
      "metadata": {
        "colab": {
          "base_uri": "https://localhost:8080/"
        },
        "id": "2JrR2oqoWXAy",
        "outputId": "ee6b3f6f-b871-4320-8bee-a41cd23bf2fc"
      },
      "outputs": [
        {
          "name": "stdout",
          "output_type": "stream",
          "text": [
            "<class 'pandas.core.frame.DataFrame'>\n",
            "RangeIndex: 13608 entries, 0 to 13607\n",
            "Data columns (total 20 columns):\n",
            " #   Column                        Non-Null Count  Dtype  \n",
            "---  ------                        --------------  -----  \n",
            " 0   id                            13608 non-null  int64  \n",
            " 1   title                         13608 non-null  object \n",
            " 2   url                           13608 non-null  object \n",
            " 3   is_paid                       13608 non-null  bool   \n",
            " 4   num_subscribers               13608 non-null  int64  \n",
            " 5   avg_rating                    13608 non-null  float64\n",
            " 6   avg_rating_recent             13608 non-null  float64\n",
            " 7   rating                        13608 non-null  float64\n",
            " 8   num_reviews                   13608 non-null  int64  \n",
            " 9   is_wishlisted                 13608 non-null  bool   \n",
            " 10  num_published_lectures        13608 non-null  int64  \n",
            " 11  num_published_practice_tests  13608 non-null  int64  \n",
            " 12  created                       13608 non-null  object \n",
            " 13  published_time                13608 non-null  object \n",
            " 14  discount_price__amount        12205 non-null  float64\n",
            " 15  discount_price__currency      12205 non-null  object \n",
            " 16  discount_price__price_string  12205 non-null  object \n",
            " 17  price_detail__amount          13111 non-null  float64\n",
            " 18  price_detail__currency        13111 non-null  object \n",
            " 19  price_detail__price_string    13111 non-null  object \n",
            "dtypes: bool(2), float64(5), int64(5), object(8)\n",
            "memory usage: 1.9+ MB\n"
          ]
        }
      ],
      "source": [
        "df.info()"
      ]
    },
    {
      "cell_type": "markdown",
      "metadata": {
        "id": "T_BAIC8PNN1y"
      },
      "source": [
        "Tampak bahwa jumlah data yang tersedia sebanyak 13608 baris dengan 20 kolom didalamnya."
      ]
    },
    {
      "cell_type": "markdown",
      "metadata": {
        "id": "TX_ywKv8TZ9q"
      },
      "source": [
        "## Pengecekan Missing Value"
      ]
    },
    {
      "cell_type": "code",
      "execution_count": 9,
      "metadata": {
        "colab": {
          "base_uri": "https://localhost:8080/"
        },
        "id": "DeEDJr2bTYdw",
        "outputId": "695cf1cb-de45-41a0-84f1-cb8dcf5cbad3"
      },
      "outputs": [
        {
          "name": "stdout",
          "output_type": "stream",
          "text": [
            "jumlah course: 13608\n"
          ]
        }
      ],
      "source": [
        "print('jumlah course:', len(np.unique(df['id'])))"
      ]
    },
    {
      "cell_type": "code",
      "execution_count": 10,
      "metadata": {
        "colab": {
          "base_uri": "https://localhost:8080/",
          "height": 711
        },
        "id": "TEySIVEPTaIo",
        "outputId": "d8045865-a228-4f55-d534-666b3581702f"
      },
      "outputs": [
        {
          "data": {
            "text/html": [
              "<div>\n",
              "<style scoped>\n",
              "    .dataframe tbody tr th:only-of-type {\n",
              "        vertical-align: middle;\n",
              "    }\n",
              "\n",
              "    .dataframe tbody tr th {\n",
              "        vertical-align: top;\n",
              "    }\n",
              "\n",
              "    .dataframe thead th {\n",
              "        text-align: right;\n",
              "    }\n",
              "</style>\n",
              "<table border=\"1\" class=\"dataframe\">\n",
              "  <thead>\n",
              "    <tr style=\"text-align: right;\">\n",
              "      <th></th>\n",
              "      <th>0</th>\n",
              "    </tr>\n",
              "  </thead>\n",
              "  <tbody>\n",
              "    <tr>\n",
              "      <th>id</th>\n",
              "      <td>0</td>\n",
              "    </tr>\n",
              "    <tr>\n",
              "      <th>title</th>\n",
              "      <td>0</td>\n",
              "    </tr>\n",
              "    <tr>\n",
              "      <th>url</th>\n",
              "      <td>0</td>\n",
              "    </tr>\n",
              "    <tr>\n",
              "      <th>is_paid</th>\n",
              "      <td>0</td>\n",
              "    </tr>\n",
              "    <tr>\n",
              "      <th>num_subscribers</th>\n",
              "      <td>0</td>\n",
              "    </tr>\n",
              "    <tr>\n",
              "      <th>avg_rating</th>\n",
              "      <td>0</td>\n",
              "    </tr>\n",
              "    <tr>\n",
              "      <th>avg_rating_recent</th>\n",
              "      <td>0</td>\n",
              "    </tr>\n",
              "    <tr>\n",
              "      <th>rating</th>\n",
              "      <td>0</td>\n",
              "    </tr>\n",
              "    <tr>\n",
              "      <th>num_reviews</th>\n",
              "      <td>0</td>\n",
              "    </tr>\n",
              "    <tr>\n",
              "      <th>is_wishlisted</th>\n",
              "      <td>0</td>\n",
              "    </tr>\n",
              "    <tr>\n",
              "      <th>num_published_lectures</th>\n",
              "      <td>0</td>\n",
              "    </tr>\n",
              "    <tr>\n",
              "      <th>num_published_practice_tests</th>\n",
              "      <td>0</td>\n",
              "    </tr>\n",
              "    <tr>\n",
              "      <th>created</th>\n",
              "      <td>0</td>\n",
              "    </tr>\n",
              "    <tr>\n",
              "      <th>published_time</th>\n",
              "      <td>0</td>\n",
              "    </tr>\n",
              "    <tr>\n",
              "      <th>discount_price__amount</th>\n",
              "      <td>1403</td>\n",
              "    </tr>\n",
              "    <tr>\n",
              "      <th>discount_price__currency</th>\n",
              "      <td>1403</td>\n",
              "    </tr>\n",
              "    <tr>\n",
              "      <th>discount_price__price_string</th>\n",
              "      <td>1403</td>\n",
              "    </tr>\n",
              "    <tr>\n",
              "      <th>price_detail__amount</th>\n",
              "      <td>497</td>\n",
              "    </tr>\n",
              "    <tr>\n",
              "      <th>price_detail__currency</th>\n",
              "      <td>497</td>\n",
              "    </tr>\n",
              "    <tr>\n",
              "      <th>price_detail__price_string</th>\n",
              "      <td>497</td>\n",
              "    </tr>\n",
              "  </tbody>\n",
              "</table>\n",
              "</div><br><label><b>dtype:</b> int64</label>"
            ],
            "text/plain": [
              "id                                 0\n",
              "title                              0\n",
              "url                                0\n",
              "is_paid                            0\n",
              "num_subscribers                    0\n",
              "avg_rating                         0\n",
              "avg_rating_recent                  0\n",
              "rating                             0\n",
              "num_reviews                        0\n",
              "is_wishlisted                      0\n",
              "num_published_lectures             0\n",
              "num_published_practice_tests       0\n",
              "created                            0\n",
              "published_time                     0\n",
              "discount_price__amount          1403\n",
              "discount_price__currency        1403\n",
              "discount_price__price_string    1403\n",
              "price_detail__amount             497\n",
              "price_detail__currency           497\n",
              "price_detail__price_string       497\n",
              "dtype: int64"
            ]
          },
          "execution_count": 10,
          "metadata": {},
          "output_type": "execute_result"
        }
      ],
      "source": [
        "df.isnull().sum()"
      ]
    },
    {
      "cell_type": "markdown",
      "metadata": {
        "id": "XZ7oZSiiNhHD"
      },
      "source": [
        "Jika diperhatikan pada informasi diatas, didapatkan missing value dibeberapa fitur, seperti :\n",
        "- discount_price__amount  = 1403\n",
        "- discount_price__currency = 1403\n",
        "- discount_price__price_string = 1403\n",
        "- price_detail__amount = 497\n",
        "- price_detail__currency = 497\n",
        "- price_detail__price_string = 497"
      ]
    },
    {
      "cell_type": "markdown",
      "metadata": {
        "id": "KgMbjYExP5sa"
      },
      "source": [
        "**Memeriksa kolom Rating**"
      ]
    },
    {
      "cell_type": "code",
      "execution_count": 11,
      "metadata": {
        "colab": {
          "base_uri": "https://localhost:8080/",
          "height": 490
        },
        "id": "3cI_A3avnh2v",
        "outputId": "bf8194dc-c4ea-4474-c821-2f6f89a0868e"
      },
      "outputs": [
        {
          "data": {
            "text/html": [
              "<div>\n",
              "<style scoped>\n",
              "    .dataframe tbody tr th:only-of-type {\n",
              "        vertical-align: middle;\n",
              "    }\n",
              "\n",
              "    .dataframe tbody tr th {\n",
              "        vertical-align: top;\n",
              "    }\n",
              "\n",
              "    .dataframe thead th {\n",
              "        text-align: right;\n",
              "    }\n",
              "</style>\n",
              "<table border=\"1\" class=\"dataframe\">\n",
              "  <thead>\n",
              "    <tr style=\"text-align: right;\">\n",
              "      <th></th>\n",
              "      <th>count</th>\n",
              "    </tr>\n",
              "    <tr>\n",
              "      <th>rating</th>\n",
              "      <th></th>\n",
              "    </tr>\n",
              "  </thead>\n",
              "  <tbody>\n",
              "    <tr>\n",
              "      <th>0.00000</th>\n",
              "      <td>684</td>\n",
              "    </tr>\n",
              "    <tr>\n",
              "      <th>5.00000</th>\n",
              "      <td>348</td>\n",
              "    </tr>\n",
              "    <tr>\n",
              "      <th>4.00000</th>\n",
              "      <td>71</td>\n",
              "    </tr>\n",
              "    <tr>\n",
              "      <th>3.00000</th>\n",
              "      <td>53</td>\n",
              "    </tr>\n",
              "    <tr>\n",
              "      <th>4.50000</th>\n",
              "      <td>45</td>\n",
              "    </tr>\n",
              "    <tr>\n",
              "      <th>...</th>\n",
              "      <td>...</td>\n",
              "    </tr>\n",
              "    <tr>\n",
              "      <th>4.60459</th>\n",
              "      <td>1</td>\n",
              "    </tr>\n",
              "    <tr>\n",
              "      <th>3.35622</th>\n",
              "      <td>1</td>\n",
              "    </tr>\n",
              "    <tr>\n",
              "      <th>3.76124</th>\n",
              "      <td>1</td>\n",
              "    </tr>\n",
              "    <tr>\n",
              "      <th>4.61578</th>\n",
              "      <td>1</td>\n",
              "    </tr>\n",
              "    <tr>\n",
              "      <th>3.72348</th>\n",
              "      <td>1</td>\n",
              "    </tr>\n",
              "  </tbody>\n",
              "</table>\n",
              "<p>11781 rows × 1 columns</p>\n",
              "</div><br><label><b>dtype:</b> int64</label>"
            ],
            "text/plain": [
              "rating\n",
              "0.00000    684\n",
              "5.00000    348\n",
              "4.00000     71\n",
              "3.00000     53\n",
              "4.50000     45\n",
              "          ... \n",
              "4.60459      1\n",
              "3.35622      1\n",
              "3.76124      1\n",
              "4.61578      1\n",
              "3.72348      1\n",
              "Name: count, Length: 11781, dtype: int64"
            ]
          },
          "execution_count": 11,
          "metadata": {},
          "output_type": "execute_result"
        }
      ],
      "source": [
        "df['rating'].value_counts()"
      ]
    },
    {
      "cell_type": "markdown",
      "metadata": {
        "id": "jewjCywGP8Pb"
      },
      "source": [
        "Jika diperhatikan kolom rating memiliki nilai antara 0 - 5. Data yang memiliki rating 0 dapat dikatakan bahwa course tersebut belum pernah dilakukan pembelian sehingga belum ada yang memiliki rating."
      ]
    },
    {
      "cell_type": "markdown",
      "metadata": {
        "id": "xWni_mnIA1AM"
      },
      "source": [
        "**Memeriksa Kolom is_paid**"
      ]
    },
    {
      "cell_type": "code",
      "execution_count": 12,
      "metadata": {
        "colab": {
          "base_uri": "https://localhost:8080/"
        },
        "id": "FGlYbZamA3MV",
        "outputId": "273b683f-add7-4126-f6b1-d2e71f86b2c5"
      },
      "outputs": [
        {
          "data": {
            "text/plain": [
              "np.int64(0)"
            ]
          },
          "execution_count": 12,
          "metadata": {},
          "output_type": "execute_result"
        }
      ],
      "source": [
        "df['is_paid'].isnull().sum()"
      ]
    },
    {
      "cell_type": "code",
      "execution_count": 13,
      "metadata": {
        "colab": {
          "base_uri": "https://localhost:8080/"
        },
        "id": "DosBtn2lETXv",
        "outputId": "4be1a095-ee3f-4971-89f7-51a96b37075f"
      },
      "outputs": [
        {
          "name": "stdout",
          "output_type": "stream",
          "text": [
            "Requirement already satisfied: langdetect in /usr/local/lib/python3.11/dist-packages (1.0.9)\n",
            "Requirement already satisfied: six in /usr/local/lib/python3.11/dist-packages (from langdetect) (1.17.0)\n"
          ]
        }
      ],
      "source": [
        "pip install langdetect"
      ]
    },
    {
      "cell_type": "markdown",
      "metadata": {
        "id": "Ownatq3f7iHS"
      },
      "source": [
        "## Exploratory Data Analysis"
      ]
    },
    {
      "cell_type": "code",
      "execution_count": 14,
      "metadata": {
        "colab": {
          "base_uri": "https://localhost:8080/",
          "height": 521
        },
        "id": "FnFKh0Jv7lJW",
        "outputId": "a346f3b6-bc99-492e-d6d1-b5d3b0f97746"
      },
      "outputs": [
        {
          "data": {
            "text/html": [
              "\n",
              "  <div id=\"df-80e33d8e-f96f-4570-ad48-703574a1c215\" class=\"colab-df-container\">\n",
              "    <div>\n",
              "<style scoped>\n",
              "    .dataframe tbody tr th:only-of-type {\n",
              "        vertical-align: middle;\n",
              "    }\n",
              "\n",
              "    .dataframe tbody tr th {\n",
              "        vertical-align: top;\n",
              "    }\n",
              "\n",
              "    .dataframe thead th {\n",
              "        text-align: right;\n",
              "    }\n",
              "</style>\n",
              "<table border=\"1\" class=\"dataframe\">\n",
              "  <thead>\n",
              "    <tr style=\"text-align: right;\">\n",
              "      <th></th>\n",
              "      <th>id</th>\n",
              "      <th>title</th>\n",
              "      <th>url</th>\n",
              "      <th>is_paid</th>\n",
              "      <th>num_subscribers</th>\n",
              "      <th>avg_rating</th>\n",
              "      <th>avg_rating_recent</th>\n",
              "      <th>rating</th>\n",
              "      <th>num_reviews</th>\n",
              "      <th>is_wishlisted</th>\n",
              "      <th>num_published_lectures</th>\n",
              "      <th>num_published_practice_tests</th>\n",
              "      <th>created</th>\n",
              "      <th>published_time</th>\n",
              "      <th>discount_price__amount</th>\n",
              "      <th>discount_price__currency</th>\n",
              "      <th>discount_price__price_string</th>\n",
              "      <th>price_detail__amount</th>\n",
              "      <th>price_detail__currency</th>\n",
              "      <th>price_detail__price_string</th>\n",
              "    </tr>\n",
              "  </thead>\n",
              "  <tbody>\n",
              "    <tr>\n",
              "      <th>0</th>\n",
              "      <td>762616</td>\n",
              "      <td>The Complete SQL Bootcamp 2020: Go from Zero t...</td>\n",
              "      <td>/course/the-complete-sql-bootcamp/</td>\n",
              "      <td>True</td>\n",
              "      <td>295509</td>\n",
              "      <td>4.66019</td>\n",
              "      <td>4.67874</td>\n",
              "      <td>4.67874</td>\n",
              "      <td>78006</td>\n",
              "      <td>False</td>\n",
              "      <td>84</td>\n",
              "      <td>0</td>\n",
              "      <td>2016-02-14T22:57:48Z</td>\n",
              "      <td>2016-04-06T05:16:11Z</td>\n",
              "      <td>455.0</td>\n",
              "      <td>INR</td>\n",
              "      <td>₹455</td>\n",
              "      <td>8640.0</td>\n",
              "      <td>INR</td>\n",
              "      <td>₹8,640</td>\n",
              "    </tr>\n",
              "    <tr>\n",
              "      <th>1</th>\n",
              "      <td>937678</td>\n",
              "      <td>Tableau 2020 A-Z: Hands-On Tableau Training fo...</td>\n",
              "      <td>/course/tableau10/</td>\n",
              "      <td>True</td>\n",
              "      <td>209070</td>\n",
              "      <td>4.58956</td>\n",
              "      <td>4.60015</td>\n",
              "      <td>4.60015</td>\n",
              "      <td>54581</td>\n",
              "      <td>False</td>\n",
              "      <td>78</td>\n",
              "      <td>0</td>\n",
              "      <td>2016-08-22T12:10:18Z</td>\n",
              "      <td>2016-08-23T16:59:49Z</td>\n",
              "      <td>455.0</td>\n",
              "      <td>INR</td>\n",
              "      <td>₹455</td>\n",
              "      <td>8640.0</td>\n",
              "      <td>INR</td>\n",
              "      <td>₹8,640</td>\n",
              "    </tr>\n",
              "    <tr>\n",
              "      <th>2</th>\n",
              "      <td>1361790</td>\n",
              "      <td>PMP Exam Prep Seminar -  PMBOK Guide 6</td>\n",
              "      <td>/course/pmp-pmbok6-35-pdus/</td>\n",
              "      <td>True</td>\n",
              "      <td>155282</td>\n",
              "      <td>4.59491</td>\n",
              "      <td>4.59326</td>\n",
              "      <td>4.59326</td>\n",
              "      <td>52653</td>\n",
              "      <td>False</td>\n",
              "      <td>292</td>\n",
              "      <td>2</td>\n",
              "      <td>2017-09-26T16:32:48Z</td>\n",
              "      <td>2017-11-14T23:58:14Z</td>\n",
              "      <td>455.0</td>\n",
              "      <td>INR</td>\n",
              "      <td>₹455</td>\n",
              "      <td>8640.0</td>\n",
              "      <td>INR</td>\n",
              "      <td>₹8,640</td>\n",
              "    </tr>\n",
              "    <tr>\n",
              "      <th>3</th>\n",
              "      <td>648826</td>\n",
              "      <td>The Complete Financial Analyst Course 2020</td>\n",
              "      <td>/course/the-complete-financial-analyst-course/</td>\n",
              "      <td>True</td>\n",
              "      <td>245860</td>\n",
              "      <td>4.54407</td>\n",
              "      <td>4.53772</td>\n",
              "      <td>4.53772</td>\n",
              "      <td>46447</td>\n",
              "      <td>False</td>\n",
              "      <td>338</td>\n",
              "      <td>0</td>\n",
              "      <td>2015-10-23T13:34:35Z</td>\n",
              "      <td>2016-01-21T01:38:48Z</td>\n",
              "      <td>455.0</td>\n",
              "      <td>INR</td>\n",
              "      <td>₹455</td>\n",
              "      <td>8640.0</td>\n",
              "      <td>INR</td>\n",
              "      <td>₹8,640</td>\n",
              "    </tr>\n",
              "    <tr>\n",
              "      <th>4</th>\n",
              "      <td>637930</td>\n",
              "      <td>An Entire MBA in 1 Course:Award Winning Busine...</td>\n",
              "      <td>/course/an-entire-mba-in-1-courseaward-winning...</td>\n",
              "      <td>True</td>\n",
              "      <td>374836</td>\n",
              "      <td>4.47080</td>\n",
              "      <td>4.47173</td>\n",
              "      <td>4.47173</td>\n",
              "      <td>41630</td>\n",
              "      <td>False</td>\n",
              "      <td>83</td>\n",
              "      <td>0</td>\n",
              "      <td>2015-10-12T06:39:46Z</td>\n",
              "      <td>2016-01-11T21:39:33Z</td>\n",
              "      <td>455.0</td>\n",
              "      <td>INR</td>\n",
              "      <td>₹455</td>\n",
              "      <td>8640.0</td>\n",
              "      <td>INR</td>\n",
              "      <td>₹8,640</td>\n",
              "    </tr>\n",
              "  </tbody>\n",
              "</table>\n",
              "</div>\n",
              "    <div class=\"colab-df-buttons\">\n",
              "      \n",
              "  <div class=\"colab-df-container\">\n",
              "    <button class=\"colab-df-convert\" onclick=\"convertToInteractive('df-80e33d8e-f96f-4570-ad48-703574a1c215')\"\n",
              "            title=\"Convert this dataframe to an interactive table.\"\n",
              "            style=\"display:none;\">\n",
              "      \n",
              "  <svg xmlns=\"http://www.w3.org/2000/svg\" height=\"24px\" viewBox=\"0 -960 960 960\">\n",
              "    <path d=\"M120-120v-720h720v720H120Zm60-500h600v-160H180v160Zm220 220h160v-160H400v160Zm0 220h160v-160H400v160ZM180-400h160v-160H180v160Zm440 0h160v-160H620v160ZM180-180h160v-160H180v160Zm440 0h160v-160H620v160Z\"/>\n",
              "  </svg>\n",
              "    </button>\n",
              "    \n",
              "  <style>\n",
              "    .colab-df-container {\n",
              "      display:flex;\n",
              "      gap: 12px;\n",
              "    }\n",
              "\n",
              "    .colab-df-convert {\n",
              "      background-color: #E8F0FE;\n",
              "      border: none;\n",
              "      border-radius: 50%;\n",
              "      cursor: pointer;\n",
              "      display: none;\n",
              "      fill: #1967D2;\n",
              "      height: 32px;\n",
              "      padding: 0 0 0 0;\n",
              "      width: 32px;\n",
              "    }\n",
              "\n",
              "    .colab-df-convert:hover {\n",
              "      background-color: #E2EBFA;\n",
              "      box-shadow: 0px 1px 2px rgba(60, 64, 67, 0.3), 0px 1px 3px 1px rgba(60, 64, 67, 0.15);\n",
              "      fill: #174EA6;\n",
              "    }\n",
              "\n",
              "    .colab-df-buttons div {\n",
              "      margin-bottom: 4px;\n",
              "    }\n",
              "\n",
              "    [theme=dark] .colab-df-convert {\n",
              "      background-color: #3B4455;\n",
              "      fill: #D2E3FC;\n",
              "    }\n",
              "\n",
              "    [theme=dark] .colab-df-convert:hover {\n",
              "      background-color: #434B5C;\n",
              "      box-shadow: 0px 1px 3px 1px rgba(0, 0, 0, 0.15);\n",
              "      filter: drop-shadow(0px 1px 2px rgba(0, 0, 0, 0.3));\n",
              "      fill: #FFFFFF;\n",
              "    }\n",
              "  </style>\n",
              "\n",
              "    <script>\n",
              "      const buttonEl =\n",
              "        document.querySelector('#df-80e33d8e-f96f-4570-ad48-703574a1c215 button.colab-df-convert');\n",
              "      buttonEl.style.display =\n",
              "        google.colab.kernel.accessAllowed ? 'block' : 'none';\n",
              "\n",
              "      async function convertToInteractive(key) {\n",
              "        const element = document.querySelector('#df-80e33d8e-f96f-4570-ad48-703574a1c215');\n",
              "        const dataTable =\n",
              "          await google.colab.kernel.invokeFunction('convertToInteractive',\n",
              "                                                    [key], {});\n",
              "        if (!dataTable) return;\n",
              "\n",
              "        const docLinkHtml = 'Like what you see? Visit the ' +\n",
              "          '<a target=\"_blank\" href=https://colab.research.google.com/notebooks/data_table.ipynb>data table notebook</a>'\n",
              "          + ' to learn more about interactive tables.';\n",
              "        element.innerHTML = '';\n",
              "        dataTable['output_type'] = 'display_data';\n",
              "        await google.colab.output.renderOutput(dataTable, element);\n",
              "        const docLink = document.createElement('div');\n",
              "        docLink.innerHTML = docLinkHtml;\n",
              "        element.appendChild(docLink);\n",
              "      }\n",
              "    </script>\n",
              "  </div>\n",
              "  \n",
              "    </div>\n",
              "  </div>\n",
              "  "
            ],
            "text/plain": [
              "        id                                              title  \\\n",
              "0   762616  The Complete SQL Bootcamp 2020: Go from Zero t...   \n",
              "1   937678  Tableau 2020 A-Z: Hands-On Tableau Training fo...   \n",
              "2  1361790             PMP Exam Prep Seminar -  PMBOK Guide 6   \n",
              "3   648826         The Complete Financial Analyst Course 2020   \n",
              "4   637930  An Entire MBA in 1 Course:Award Winning Busine...   \n",
              "\n",
              "                                                 url  is_paid  \\\n",
              "0                 /course/the-complete-sql-bootcamp/     True   \n",
              "1                                 /course/tableau10/     True   \n",
              "2                        /course/pmp-pmbok6-35-pdus/     True   \n",
              "3     /course/the-complete-financial-analyst-course/     True   \n",
              "4  /course/an-entire-mba-in-1-courseaward-winning...     True   \n",
              "\n",
              "   num_subscribers  avg_rating  avg_rating_recent   rating  num_reviews  \\\n",
              "0           295509     4.66019            4.67874  4.67874        78006   \n",
              "1           209070     4.58956            4.60015  4.60015        54581   \n",
              "2           155282     4.59491            4.59326  4.59326        52653   \n",
              "3           245860     4.54407            4.53772  4.53772        46447   \n",
              "4           374836     4.47080            4.47173  4.47173        41630   \n",
              "\n",
              "   is_wishlisted  num_published_lectures  num_published_practice_tests  \\\n",
              "0          False                      84                             0   \n",
              "1          False                      78                             0   \n",
              "2          False                     292                             2   \n",
              "3          False                     338                             0   \n",
              "4          False                      83                             0   \n",
              "\n",
              "                created        published_time  discount_price__amount  \\\n",
              "0  2016-02-14T22:57:48Z  2016-04-06T05:16:11Z                   455.0   \n",
              "1  2016-08-22T12:10:18Z  2016-08-23T16:59:49Z                   455.0   \n",
              "2  2017-09-26T16:32:48Z  2017-11-14T23:58:14Z                   455.0   \n",
              "3  2015-10-23T13:34:35Z  2016-01-21T01:38:48Z                   455.0   \n",
              "4  2015-10-12T06:39:46Z  2016-01-11T21:39:33Z                   455.0   \n",
              "\n",
              "  discount_price__currency discount_price__price_string  price_detail__amount  \\\n",
              "0                      INR                         ₹455                8640.0   \n",
              "1                      INR                         ₹455                8640.0   \n",
              "2                      INR                         ₹455                8640.0   \n",
              "3                      INR                         ₹455                8640.0   \n",
              "4                      INR                         ₹455                8640.0   \n",
              "\n",
              "  price_detail__currency price_detail__price_string  \n",
              "0                    INR                     ₹8,640  \n",
              "1                    INR                     ₹8,640  \n",
              "2                    INR                     ₹8,640  \n",
              "3                    INR                     ₹8,640  \n",
              "4                    INR                     ₹8,640  "
            ]
          },
          "execution_count": 14,
          "metadata": {},
          "output_type": "execute_result"
        }
      ],
      "source": [
        "pd.set_option('display.max_columns', None)\n",
        "\n",
        "df.head()"
      ]
    },
    {
      "cell_type": "code",
      "execution_count": 15,
      "metadata": {
        "colab": {
          "base_uri": "https://localhost:8080/",
          "height": 320
        },
        "id": "8Sz-ZvMH9rXn",
        "outputId": "501ca3be-fa8e-4f3d-b479-0c28fdabc510"
      },
      "outputs": [
        {
          "data": {
            "text/html": [
              "\n",
              "  <div id=\"df-5bbddacd-9eb4-4c09-ba9f-b55125d53286\" class=\"colab-df-container\">\n",
              "    <div>\n",
              "<style scoped>\n",
              "    .dataframe tbody tr th:only-of-type {\n",
              "        vertical-align: middle;\n",
              "    }\n",
              "\n",
              "    .dataframe tbody tr th {\n",
              "        vertical-align: top;\n",
              "    }\n",
              "\n",
              "    .dataframe thead th {\n",
              "        text-align: right;\n",
              "    }\n",
              "</style>\n",
              "<table border=\"1\" class=\"dataframe\">\n",
              "  <thead>\n",
              "    <tr style=\"text-align: right;\">\n",
              "      <th></th>\n",
              "      <th>id</th>\n",
              "      <th>num_subscribers</th>\n",
              "      <th>avg_rating</th>\n",
              "      <th>avg_rating_recent</th>\n",
              "      <th>rating</th>\n",
              "      <th>num_reviews</th>\n",
              "      <th>num_published_lectures</th>\n",
              "      <th>num_published_practice_tests</th>\n",
              "      <th>discount_price__amount</th>\n",
              "      <th>price_detail__amount</th>\n",
              "    </tr>\n",
              "  </thead>\n",
              "  <tbody>\n",
              "    <tr>\n",
              "      <th>count</th>\n",
              "      <td>1.360800e+04</td>\n",
              "      <td>13608.000000</td>\n",
              "      <td>13608.000000</td>\n",
              "      <td>13608.000000</td>\n",
              "      <td>13608.000000</td>\n",
              "      <td>13608.000000</td>\n",
              "      <td>13608.000000</td>\n",
              "      <td>13608.000000</td>\n",
              "      <td>12205.000000</td>\n",
              "      <td>13111.000000</td>\n",
              "    </tr>\n",
              "    <tr>\n",
              "      <th>mean</th>\n",
              "      <td>1.681721e+06</td>\n",
              "      <td>2847.010435</td>\n",
              "      <td>3.923293</td>\n",
              "      <td>3.912242</td>\n",
              "      <td>3.912242</td>\n",
              "      <td>243.169827</td>\n",
              "      <td>32.224794</td>\n",
              "      <td>0.110523</td>\n",
              "      <td>493.943794</td>\n",
              "      <td>4646.992602</td>\n",
              "    </tr>\n",
              "    <tr>\n",
              "      <th>std</th>\n",
              "      <td>9.539271e+05</td>\n",
              "      <td>9437.865634</td>\n",
              "      <td>1.031304</td>\n",
              "      <td>1.039237</td>\n",
              "      <td>1.039237</td>\n",
              "      <td>1580.965895</td>\n",
              "      <td>42.766911</td>\n",
              "      <td>0.623501</td>\n",
              "      <td>267.827260</td>\n",
              "      <td>3109.101019</td>\n",
              "    </tr>\n",
              "    <tr>\n",
              "      <th>min</th>\n",
              "      <td>2.762000e+03</td>\n",
              "      <td>0.000000</td>\n",
              "      <td>0.000000</td>\n",
              "      <td>0.000000</td>\n",
              "      <td>0.000000</td>\n",
              "      <td>0.000000</td>\n",
              "      <td>0.000000</td>\n",
              "      <td>0.000000</td>\n",
              "      <td>455.000000</td>\n",
              "      <td>1280.000000</td>\n",
              "    </tr>\n",
              "    <tr>\n",
              "      <th>25%</th>\n",
              "      <td>8.580862e+05</td>\n",
              "      <td>62.000000</td>\n",
              "      <td>3.800000</td>\n",
              "      <td>3.787315</td>\n",
              "      <td>3.787315</td>\n",
              "      <td>7.000000</td>\n",
              "      <td>12.000000</td>\n",
              "      <td>0.000000</td>\n",
              "      <td>455.000000</td>\n",
              "      <td>1600.000000</td>\n",
              "    </tr>\n",
              "    <tr>\n",
              "      <th>50%</th>\n",
              "      <td>1.623421e+06</td>\n",
              "      <td>533.000000</td>\n",
              "      <td>4.194440</td>\n",
              "      <td>4.181735</td>\n",
              "      <td>4.181735</td>\n",
              "      <td>24.000000</td>\n",
              "      <td>21.000000</td>\n",
              "      <td>0.000000</td>\n",
              "      <td>455.000000</td>\n",
              "      <td>3200.000000</td>\n",
              "    </tr>\n",
              "    <tr>\n",
              "      <th>75%</th>\n",
              "      <td>2.503720e+06</td>\n",
              "      <td>2279.500000</td>\n",
              "      <td>4.450000</td>\n",
              "      <td>4.452105</td>\n",
              "      <td>4.452105</td>\n",
              "      <td>87.000000</td>\n",
              "      <td>37.000000</td>\n",
              "      <td>0.000000</td>\n",
              "      <td>455.000000</td>\n",
              "      <td>8640.000000</td>\n",
              "    </tr>\n",
              "    <tr>\n",
              "      <th>max</th>\n",
              "      <td>3.486006e+06</td>\n",
              "      <td>374836.000000</td>\n",
              "      <td>5.000000</td>\n",
              "      <td>5.000000</td>\n",
              "      <td>5.000000</td>\n",
              "      <td>78006.000000</td>\n",
              "      <td>699.000000</td>\n",
              "      <td>6.000000</td>\n",
              "      <td>3200.000000</td>\n",
              "      <td>12800.000000</td>\n",
              "    </tr>\n",
              "  </tbody>\n",
              "</table>\n",
              "</div>\n",
              "    <div class=\"colab-df-buttons\">\n",
              "      \n",
              "  <div class=\"colab-df-container\">\n",
              "    <button class=\"colab-df-convert\" onclick=\"convertToInteractive('df-5bbddacd-9eb4-4c09-ba9f-b55125d53286')\"\n",
              "            title=\"Convert this dataframe to an interactive table.\"\n",
              "            style=\"display:none;\">\n",
              "      \n",
              "  <svg xmlns=\"http://www.w3.org/2000/svg\" height=\"24px\" viewBox=\"0 -960 960 960\">\n",
              "    <path d=\"M120-120v-720h720v720H120Zm60-500h600v-160H180v160Zm220 220h160v-160H400v160Zm0 220h160v-160H400v160ZM180-400h160v-160H180v160Zm440 0h160v-160H620v160ZM180-180h160v-160H180v160Zm440 0h160v-160H620v160Z\"/>\n",
              "  </svg>\n",
              "    </button>\n",
              "    \n",
              "  <style>\n",
              "    .colab-df-container {\n",
              "      display:flex;\n",
              "      gap: 12px;\n",
              "    }\n",
              "\n",
              "    .colab-df-convert {\n",
              "      background-color: #E8F0FE;\n",
              "      border: none;\n",
              "      border-radius: 50%;\n",
              "      cursor: pointer;\n",
              "      display: none;\n",
              "      fill: #1967D2;\n",
              "      height: 32px;\n",
              "      padding: 0 0 0 0;\n",
              "      width: 32px;\n",
              "    }\n",
              "\n",
              "    .colab-df-convert:hover {\n",
              "      background-color: #E2EBFA;\n",
              "      box-shadow: 0px 1px 2px rgba(60, 64, 67, 0.3), 0px 1px 3px 1px rgba(60, 64, 67, 0.15);\n",
              "      fill: #174EA6;\n",
              "    }\n",
              "\n",
              "    .colab-df-buttons div {\n",
              "      margin-bottom: 4px;\n",
              "    }\n",
              "\n",
              "    [theme=dark] .colab-df-convert {\n",
              "      background-color: #3B4455;\n",
              "      fill: #D2E3FC;\n",
              "    }\n",
              "\n",
              "    [theme=dark] .colab-df-convert:hover {\n",
              "      background-color: #434B5C;\n",
              "      box-shadow: 0px 1px 3px 1px rgba(0, 0, 0, 0.15);\n",
              "      filter: drop-shadow(0px 1px 2px rgba(0, 0, 0, 0.3));\n",
              "      fill: #FFFFFF;\n",
              "    }\n",
              "  </style>\n",
              "\n",
              "    <script>\n",
              "      const buttonEl =\n",
              "        document.querySelector('#df-5bbddacd-9eb4-4c09-ba9f-b55125d53286 button.colab-df-convert');\n",
              "      buttonEl.style.display =\n",
              "        google.colab.kernel.accessAllowed ? 'block' : 'none';\n",
              "\n",
              "      async function convertToInteractive(key) {\n",
              "        const element = document.querySelector('#df-5bbddacd-9eb4-4c09-ba9f-b55125d53286');\n",
              "        const dataTable =\n",
              "          await google.colab.kernel.invokeFunction('convertToInteractive',\n",
              "                                                    [key], {});\n",
              "        if (!dataTable) return;\n",
              "\n",
              "        const docLinkHtml = 'Like what you see? Visit the ' +\n",
              "          '<a target=\"_blank\" href=https://colab.research.google.com/notebooks/data_table.ipynb>data table notebook</a>'\n",
              "          + ' to learn more about interactive tables.';\n",
              "        element.innerHTML = '';\n",
              "        dataTable['output_type'] = 'display_data';\n",
              "        await google.colab.output.renderOutput(dataTable, element);\n",
              "        const docLink = document.createElement('div');\n",
              "        docLink.innerHTML = docLinkHtml;\n",
              "        element.appendChild(docLink);\n",
              "      }\n",
              "    </script>\n",
              "  </div>\n",
              "  \n",
              "    </div>\n",
              "  </div>\n",
              "  "
            ],
            "text/plain": [
              "                 id  num_subscribers    avg_rating  avg_rating_recent  \\\n",
              "count  1.360800e+04     13608.000000  13608.000000       13608.000000   \n",
              "mean   1.681721e+06      2847.010435      3.923293           3.912242   \n",
              "std    9.539271e+05      9437.865634      1.031304           1.039237   \n",
              "min    2.762000e+03         0.000000      0.000000           0.000000   \n",
              "25%    8.580862e+05        62.000000      3.800000           3.787315   \n",
              "50%    1.623421e+06       533.000000      4.194440           4.181735   \n",
              "75%    2.503720e+06      2279.500000      4.450000           4.452105   \n",
              "max    3.486006e+06    374836.000000      5.000000           5.000000   \n",
              "\n",
              "             rating   num_reviews  num_published_lectures  \\\n",
              "count  13608.000000  13608.000000            13608.000000   \n",
              "mean       3.912242    243.169827               32.224794   \n",
              "std        1.039237   1580.965895               42.766911   \n",
              "min        0.000000      0.000000                0.000000   \n",
              "25%        3.787315      7.000000               12.000000   \n",
              "50%        4.181735     24.000000               21.000000   \n",
              "75%        4.452105     87.000000               37.000000   \n",
              "max        5.000000  78006.000000              699.000000   \n",
              "\n",
              "       num_published_practice_tests  discount_price__amount  \\\n",
              "count                  13608.000000            12205.000000   \n",
              "mean                       0.110523              493.943794   \n",
              "std                        0.623501              267.827260   \n",
              "min                        0.000000              455.000000   \n",
              "25%                        0.000000              455.000000   \n",
              "50%                        0.000000              455.000000   \n",
              "75%                        0.000000              455.000000   \n",
              "max                        6.000000             3200.000000   \n",
              "\n",
              "       price_detail__amount  \n",
              "count          13111.000000  \n",
              "mean            4646.992602  \n",
              "std             3109.101019  \n",
              "min             1280.000000  \n",
              "25%             1600.000000  \n",
              "50%             3200.000000  \n",
              "75%             8640.000000  \n",
              "max            12800.000000  "
            ]
          },
          "execution_count": 15,
          "metadata": {},
          "output_type": "execute_result"
        }
      ],
      "source": [
        "df.describe()"
      ]
    },
    {
      "cell_type": "markdown",
      "metadata": {
        "id": "cnIYPfP2_Vwe"
      },
      "source": [
        "Tampak bahwa data terlihat aman atau tidak ada yang aneh dari analisis deskriptif diatas."
      ]
    },
    {
      "cell_type": "markdown",
      "metadata": {
        "id": "e_tJFFQeCEwH"
      },
      "source": [
        "#### Multivariate"
      ]
    },
    {
      "cell_type": "markdown",
      "metadata": {
        "id": "bxlddENHECC6"
      },
      "source": [
        "**Top 5 Course dengan jumlah subscriber terbanyak**"
      ]
    },
    {
      "cell_type": "code",
      "execution_count": 16,
      "metadata": {
        "colab": {
          "base_uri": "https://localhost:8080/",
          "height": 206
        },
        "id": "PEYKgF8tCHV3",
        "outputId": "5eeecdc8-9e5a-4a8b-cc84-dc57afcbf916"
      },
      "outputs": [
        {
          "data": {
            "text/html": [
              "\n",
              "  <div id=\"df-7df327a5-e594-4f4c-ad67-37f665043761\" class=\"colab-df-container\">\n",
              "    <div>\n",
              "<style scoped>\n",
              "    .dataframe tbody tr th:only-of-type {\n",
              "        vertical-align: middle;\n",
              "    }\n",
              "\n",
              "    .dataframe tbody tr th {\n",
              "        vertical-align: top;\n",
              "    }\n",
              "\n",
              "    .dataframe thead th {\n",
              "        text-align: right;\n",
              "    }\n",
              "</style>\n",
              "<table border=\"1\" class=\"dataframe\">\n",
              "  <thead>\n",
              "    <tr style=\"text-align: right;\">\n",
              "      <th></th>\n",
              "      <th>title</th>\n",
              "      <th>num_subscribers</th>\n",
              "    </tr>\n",
              "  </thead>\n",
              "  <tbody>\n",
              "    <tr>\n",
              "      <th>4</th>\n",
              "      <td>An Entire MBA in 1 Course:Award Winning Busine...</td>\n",
              "      <td>374836</td>\n",
              "    </tr>\n",
              "    <tr>\n",
              "      <th>0</th>\n",
              "      <td>The Complete SQL Bootcamp 2020: Go from Zero t...</td>\n",
              "      <td>295509</td>\n",
              "    </tr>\n",
              "    <tr>\n",
              "      <th>11484</th>\n",
              "      <td>Stock Market Investing for Beginners</td>\n",
              "      <td>259888</td>\n",
              "    </tr>\n",
              "    <tr>\n",
              "      <th>3</th>\n",
              "      <td>The Complete Financial Analyst Course 2020</td>\n",
              "      <td>245860</td>\n",
              "    </tr>\n",
              "    <tr>\n",
              "      <th>19</th>\n",
              "      <td>Deep Learning Prerequisites: The Numpy Stack i...</td>\n",
              "      <td>239309</td>\n",
              "    </tr>\n",
              "  </tbody>\n",
              "</table>\n",
              "</div>\n",
              "    <div class=\"colab-df-buttons\">\n",
              "      \n",
              "  <div class=\"colab-df-container\">\n",
              "    <button class=\"colab-df-convert\" onclick=\"convertToInteractive('df-7df327a5-e594-4f4c-ad67-37f665043761')\"\n",
              "            title=\"Convert this dataframe to an interactive table.\"\n",
              "            style=\"display:none;\">\n",
              "      \n",
              "  <svg xmlns=\"http://www.w3.org/2000/svg\" height=\"24px\" viewBox=\"0 -960 960 960\">\n",
              "    <path d=\"M120-120v-720h720v720H120Zm60-500h600v-160H180v160Zm220 220h160v-160H400v160Zm0 220h160v-160H400v160ZM180-400h160v-160H180v160Zm440 0h160v-160H620v160ZM180-180h160v-160H180v160Zm440 0h160v-160H620v160Z\"/>\n",
              "  </svg>\n",
              "    </button>\n",
              "    \n",
              "  <style>\n",
              "    .colab-df-container {\n",
              "      display:flex;\n",
              "      gap: 12px;\n",
              "    }\n",
              "\n",
              "    .colab-df-convert {\n",
              "      background-color: #E8F0FE;\n",
              "      border: none;\n",
              "      border-radius: 50%;\n",
              "      cursor: pointer;\n",
              "      display: none;\n",
              "      fill: #1967D2;\n",
              "      height: 32px;\n",
              "      padding: 0 0 0 0;\n",
              "      width: 32px;\n",
              "    }\n",
              "\n",
              "    .colab-df-convert:hover {\n",
              "      background-color: #E2EBFA;\n",
              "      box-shadow: 0px 1px 2px rgba(60, 64, 67, 0.3), 0px 1px 3px 1px rgba(60, 64, 67, 0.15);\n",
              "      fill: #174EA6;\n",
              "    }\n",
              "\n",
              "    .colab-df-buttons div {\n",
              "      margin-bottom: 4px;\n",
              "    }\n",
              "\n",
              "    [theme=dark] .colab-df-convert {\n",
              "      background-color: #3B4455;\n",
              "      fill: #D2E3FC;\n",
              "    }\n",
              "\n",
              "    [theme=dark] .colab-df-convert:hover {\n",
              "      background-color: #434B5C;\n",
              "      box-shadow: 0px 1px 3px 1px rgba(0, 0, 0, 0.15);\n",
              "      filter: drop-shadow(0px 1px 2px rgba(0, 0, 0, 0.3));\n",
              "      fill: #FFFFFF;\n",
              "    }\n",
              "  </style>\n",
              "\n",
              "    <script>\n",
              "      const buttonEl =\n",
              "        document.querySelector('#df-7df327a5-e594-4f4c-ad67-37f665043761 button.colab-df-convert');\n",
              "      buttonEl.style.display =\n",
              "        google.colab.kernel.accessAllowed ? 'block' : 'none';\n",
              "\n",
              "      async function convertToInteractive(key) {\n",
              "        const element = document.querySelector('#df-7df327a5-e594-4f4c-ad67-37f665043761');\n",
              "        const dataTable =\n",
              "          await google.colab.kernel.invokeFunction('convertToInteractive',\n",
              "                                                    [key], {});\n",
              "        if (!dataTable) return;\n",
              "\n",
              "        const docLinkHtml = 'Like what you see? Visit the ' +\n",
              "          '<a target=\"_blank\" href=https://colab.research.google.com/notebooks/data_table.ipynb>data table notebook</a>'\n",
              "          + ' to learn more about interactive tables.';\n",
              "        element.innerHTML = '';\n",
              "        dataTable['output_type'] = 'display_data';\n",
              "        await google.colab.output.renderOutput(dataTable, element);\n",
              "        const docLink = document.createElement('div');\n",
              "        docLink.innerHTML = docLinkHtml;\n",
              "        element.appendChild(docLink);\n",
              "      }\n",
              "    </script>\n",
              "  </div>\n",
              "  \n",
              "    </div>\n",
              "  </div>\n",
              "  "
            ],
            "text/plain": [
              "                                                   title  num_subscribers\n",
              "4      An Entire MBA in 1 Course:Award Winning Busine...           374836\n",
              "0      The Complete SQL Bootcamp 2020: Go from Zero t...           295509\n",
              "11484               Stock Market Investing for Beginners           259888\n",
              "3             The Complete Financial Analyst Course 2020           245860\n",
              "19     Deep Learning Prerequisites: The Numpy Stack i...           239309"
            ]
          },
          "execution_count": 16,
          "metadata": {},
          "output_type": "execute_result"
        }
      ],
      "source": [
        "top5_subscribers = df.sort_values(by='num_subscribers', ascending=False).head(5)\n",
        "top5_subscribers[['title', 'num_subscribers']]\n"
      ]
    },
    {
      "cell_type": "code",
      "execution_count": 17,
      "metadata": {
        "colab": {
          "base_uri": "https://localhost:8080/",
          "height": 992
        },
        "id": "HTB-cJMmCZn6",
        "outputId": "b00b21eb-4c33-4cf1-f402-28c70625c6fc"
      },
      "outputs": [
        {
          "data": {
            "image/png": "[encoded data removed]",
            "text/plain": [
              "<Figure size 1000x600 with 1 Axes>"
            ]
          },
          "metadata": {},
          "output_type": "display_data"
        }
      ],
      "source": [
        "plt.figure(figsize=(10, 6))\n",
        "sns.barplot(x='title', y='num_subscribers', data=top5_subscribers)\n",
        "plt.title('Top 5 Course Berdasarkan Jumlah Subscriber')\n",
        "plt.xlabel('Judul Course')\n",
        "plt.ylabel('Jumlah Subscriber')\n",
        "plt.xticks(rotation=90)\n",
        "plt.show()"
      ]
    },
    {
      "cell_type": "markdown",
      "metadata": {
        "id": "rVa5rhvlEHh-"
      },
      "source": [
        "Berdasarkan visualisasi diatas, didapatkan bahwa course terbanyak berdasarkan jumlah subscribernya adalah course dengan judul \"An Entire MBA in 1 Course:Award Winning Busineness School Prof\"."
      ]
    },
    {
      "cell_type": "markdown",
      "metadata": {
        "id": "fDao4z5YEV5-"
      },
      "source": [
        "**Top 5 dan Bot 5 Course berdasarkan harga tertinggi**"
      ]
    },
    {
      "cell_type": "code",
      "execution_count": 18,
      "metadata": {
        "colab": {
          "base_uri": "https://localhost:8080/"
        },
        "id": "6cUlo-U3Cexl",
        "outputId": "3595c313-4e9b-44cd-a0fe-8b1c5d4634d9"
      },
      "outputs": [
        {
          "name": "stdout",
          "output_type": "stream",
          "text": [
            "Top 5 Course\n",
            "                                                   title  price_detail__amount\n",
            "11850  Simpel investieren für Finanzanfänger und Priv...               12800.0\n",
            "5276   Business Blogging & Social Media PressRoom (Wo...               12800.0\n",
            "8490   Asta Powerproject for Building Information Mod...               12800.0\n",
            "142    Speak Like a Pro: Public Speaking for Professi...               12800.0\n",
            "9989   Securities Industry Essentials (SIE) Test Prep...               12800.0\n",
            "============================================================\n",
            "Bottom 5 Course\n",
            "                                                   title  price_detail__amount\n",
            "13359                               株式投資テクニカル入門「超初心者コース」                1280.0\n",
            "13360                   Controla tus finanzas personales                1280.0\n",
            "13363                  Gastos en tus Finanzas Personales                1280.0\n",
            "13365  Apri la tua Partita IVA! Il Fisco spiegato in ...                1280.0\n",
            "13366     Der ETF-Meisterkurs / Geld mit ETF´s verdienen                1280.0\n"
          ]
        }
      ],
      "source": [
        "top5_amount = df.sort_values(by='price_detail__amount', ascending=False).head(5)\n",
        "print(\"Top 5 Course\")\n",
        "print(top5_amount[['title', 'price_detail__amount']])\n",
        "\n",
        "print(\"===\"*20)\n",
        "\n",
        "bot5_amount = df.sort_values(by='price_detail__amount', ascending=True).head(5)\n",
        "print(\"Bottom 5 Course\")\n",
        "print(bot5_amount[['title', 'price_detail__amount']])\n"
      ]
    },
    {
      "cell_type": "code",
      "execution_count": 19,
      "metadata": {
        "id": "rlUFz_CDCokK"
      },
      "outputs": [],
      "source": [
        "def plot_bar_chart(data, title):\n",
        "    plt.figure(figsize=(10, 6))\n",
        "    sns.barplot(x='title', y='price_detail__amount', data=data)\n",
        "    plt.title(f'{title} Course Berdasarkan Harga')\n",
        "    plt.xlabel('Judul Course')\n",
        "    plt.ylabel('Harga')\n",
        "    plt.xticks(rotation=90)\n",
        "    plt.show()"
      ]
    },
    {
      "cell_type": "code",
      "execution_count": 20,
      "metadata": {
        "colab": {
          "base_uri": "https://localhost:8080/",
          "height": 963
        },
        "id": "8umsUaSlGORW",
        "outputId": "1c0afe25-cbaf-4c3d-8989-3f2986864df4"
      },
      "outputs": [
        {
          "data": {
            "image/png": "[encoded data removed]",
            "text/plain": [
              "<Figure size 1000x600 with 1 Axes>"
            ]
          },
          "metadata": {},
          "output_type": "display_data"
        }
      ],
      "source": [
        "plot_bar_chart(top5_amount, \"Top 5\")"
      ]
    },
    {
      "cell_type": "markdown",
      "metadata": {
        "id": "CcIbV2OzFrDM"
      },
      "source": [
        "Berdasarkan visualisasi diatas, tampak bahwa course dengan harga tertinggi berada pada course dngan judul \"Simpel investieren für Finanzanfänger und Priv...\" dan course dengan jumlah harga 12.800 lainnya."
      ]
    },
    {
      "cell_type": "code",
      "execution_count": 21,
      "metadata": {
        "colab": {
          "base_uri": "https://localhost:8080/",
          "height": 1000
        },
        "id": "wkXrq3fbGQP4",
        "outputId": "27d87b2e-abe2-4baf-bd03-18f71f7b7a3e"
      },
      "outputs": [
        {
          "name": "stderr",
          "output_type": "stream",
          "text": [
            "/usr/local/lib/python3.11/dist-packages/IPython/core/pylabtools.py:151: UserWarning: Glyph 26666 (\\N{CJK UNIFIED IDEOGRAPH-682A}) missing from font(s) DejaVu Sans.\n",
            "  fig.canvas.print_figure(bytes_io, **kw)\n",
            "/usr/local/lib/python3.11/dist-packages/IPython/core/pylabtools.py:151: UserWarning: Glyph 24335 (\\N{CJK UNIFIED IDEOGRAPH-5F0F}) missing from font(s) DejaVu Sans.\n",
            "  fig.canvas.print_figure(bytes_io, **kw)\n",
            "/usr/local/lib/python3.11/dist-packages/IPython/core/pylabtools.py:151: UserWarning: Glyph 25237 (\\N{CJK UNIFIED IDEOGRAPH-6295}) missing from font(s) DejaVu Sans.\n",
            "  fig.canvas.print_figure(bytes_io, **kw)\n",
            "/usr/local/lib/python3.11/dist-packages/IPython/core/pylabtools.py:151: UserWarning: Glyph 36039 (\\N{CJK UNIFIED IDEOGRAPH-8CC7}) missing from font(s) DejaVu Sans.\n",
            "  fig.canvas.print_figure(bytes_io, **kw)\n",
            "/usr/local/lib/python3.11/dist-packages/IPython/core/pylabtools.py:151: UserWarning: Glyph 12486 (\\N{KATAKANA LETTER TE}) missing from font(s) DejaVu Sans.\n",
            "  fig.canvas.print_figure(bytes_io, **kw)\n",
            "/usr/local/lib/python3.11/dist-packages/IPython/core/pylabtools.py:151: UserWarning: Glyph 12463 (\\N{KATAKANA LETTER KU}) missing from font(s) DejaVu Sans.\n",
            "  fig.canvas.print_figure(bytes_io, **kw)\n",
            "/usr/local/lib/python3.11/dist-packages/IPython/core/pylabtools.py:151: UserWarning: Glyph 12491 (\\N{KATAKANA LETTER NI}) missing from font(s) DejaVu Sans.\n",
            "  fig.canvas.print_figure(bytes_io, **kw)\n",
            "/usr/local/lib/python3.11/dist-packages/IPython/core/pylabtools.py:151: UserWarning: Glyph 12459 (\\N{KATAKANA LETTER KA}) missing from font(s) DejaVu Sans.\n",
            "  fig.canvas.print_figure(bytes_io, **kw)\n",
            "/usr/local/lib/python3.11/dist-packages/IPython/core/pylabtools.py:151: UserWarning: Glyph 12523 (\\N{KATAKANA LETTER RU}) missing from font(s) DejaVu Sans.\n",
            "  fig.canvas.print_figure(bytes_io, **kw)\n",
            "/usr/local/lib/python3.11/dist-packages/IPython/core/pylabtools.py:151: UserWarning: Glyph 20837 (\\N{CJK UNIFIED IDEOGRAPH-5165}) missing from font(s) DejaVu Sans.\n",
            "  fig.canvas.print_figure(bytes_io, **kw)\n",
            "/usr/local/lib/python3.11/dist-packages/IPython/core/pylabtools.py:151: UserWarning: Glyph 38272 (\\N{CJK UNIFIED IDEOGRAPH-9580}) missing from font(s) DejaVu Sans.\n",
            "  fig.canvas.print_figure(bytes_io, **kw)\n",
            "/usr/local/lib/python3.11/dist-packages/IPython/core/pylabtools.py:151: UserWarning: Glyph 12300 (\\N{LEFT CORNER BRACKET}) missing from font(s) DejaVu Sans.\n",
            "  fig.canvas.print_figure(bytes_io, **kw)\n",
            "/usr/local/lib/python3.11/dist-packages/IPython/core/pylabtools.py:151: UserWarning: Glyph 36229 (\\N{CJK UNIFIED IDEOGRAPH-8D85}) missing from font(s) DejaVu Sans.\n",
            "  fig.canvas.print_figure(bytes_io, **kw)\n",
            "/usr/local/lib/python3.11/dist-packages/IPython/core/pylabtools.py:151: UserWarning: Glyph 21021 (\\N{CJK UNIFIED IDEOGRAPH-521D}) missing from font(s) DejaVu Sans.\n",
            "  fig.canvas.print_figure(bytes_io, **kw)\n",
            "/usr/local/lib/python3.11/dist-packages/IPython/core/pylabtools.py:151: UserWarning: Glyph 24515 (\\N{CJK UNIFIED IDEOGRAPH-5FC3}) missing from font(s) DejaVu Sans.\n",
            "  fig.canvas.print_figure(bytes_io, **kw)\n",
            "/usr/local/lib/python3.11/dist-packages/IPython/core/pylabtools.py:151: UserWarning: Glyph 32773 (\\N{CJK UNIFIED IDEOGRAPH-8005}) missing from font(s) DejaVu Sans.\n",
            "  fig.canvas.print_figure(bytes_io, **kw)\n",
            "/usr/local/lib/python3.11/dist-packages/IPython/core/pylabtools.py:151: UserWarning: Glyph 12467 (\\N{KATAKANA LETTER KO}) missing from font(s) DejaVu Sans.\n",
            "  fig.canvas.print_figure(bytes_io, **kw)\n",
            "/usr/local/lib/python3.11/dist-packages/IPython/core/pylabtools.py:151: UserWarning: Glyph 12540 (\\N{KATAKANA-HIRAGANA PROLONGED SOUND MARK}) missing from font(s) DejaVu Sans.\n",
            "  fig.canvas.print_figure(bytes_io, **kw)\n",
            "/usr/local/lib/python3.11/dist-packages/IPython/core/pylabtools.py:151: UserWarning: Glyph 12473 (\\N{KATAKANA LETTER SU}) missing from font(s) DejaVu Sans.\n",
            "  fig.canvas.print_figure(bytes_io, **kw)\n",
            "/usr/local/lib/python3.11/dist-packages/IPython/core/pylabtools.py:151: UserWarning: Glyph 12301 (\\N{RIGHT CORNER BRACKET}) missing from font(s) DejaVu Sans.\n",
            "  fig.canvas.print_figure(bytes_io, **kw)\n"
          ]
        },
        {
          "data": {
            "image/png": "[encoded data removed]",
            "text/plain": [
              "<Figure size 1000x600 with 1 Axes>"
            ]
          },
          "metadata": {},
          "output_type": "display_data"
        }
      ],
      "source": [
        "plot_bar_chart(bot5_amount, \"Bottom 5\")"
      ]
    },
    {
      "cell_type": "markdown",
      "metadata": {
        "id": "9u9Bgm8IGs6A"
      },
      "source": [
        "Sedangkan course dengan harga terendah, dalah course dengan harga 1280. Contohnya seperti \" 株式投資テクニカル入門「超初心者コース\""
      ]
    },
    {
      "cell_type": "markdown",
      "metadata": {
        "id": "Z7qxcAd2G33f"
      },
      "source": [
        "**Course dengan review terbanyak**"
      ]
    },
    {
      "cell_type": "code",
      "execution_count": 22,
      "metadata": {
        "colab": {
          "base_uri": "https://localhost:8080/",
          "height": 206
        },
        "id": "zjlirzwSDMou",
        "outputId": "db064ebc-899d-4ff6-8bcf-e917885df4d5"
      },
      "outputs": [
        {
          "data": {
            "text/html": [
              "\n",
              "  <div id=\"df-bf9acf1a-5db2-4f72-98ca-024f4459b4fd\" class=\"colab-df-container\">\n",
              "    <div>\n",
              "<style scoped>\n",
              "    .dataframe tbody tr th:only-of-type {\n",
              "        vertical-align: middle;\n",
              "    }\n",
              "\n",
              "    .dataframe tbody tr th {\n",
              "        vertical-align: top;\n",
              "    }\n",
              "\n",
              "    .dataframe thead th {\n",
              "        text-align: right;\n",
              "    }\n",
              "</style>\n",
              "<table border=\"1\" class=\"dataframe\">\n",
              "  <thead>\n",
              "    <tr style=\"text-align: right;\">\n",
              "      <th></th>\n",
              "      <th>title</th>\n",
              "      <th>num_reviews</th>\n",
              "    </tr>\n",
              "  </thead>\n",
              "  <tbody>\n",
              "    <tr>\n",
              "      <th>0</th>\n",
              "      <td>The Complete SQL Bootcamp 2020: Go from Zero t...</td>\n",
              "      <td>78006</td>\n",
              "    </tr>\n",
              "    <tr>\n",
              "      <th>1</th>\n",
              "      <td>Tableau 2020 A-Z: Hands-On Tableau Training fo...</td>\n",
              "      <td>54581</td>\n",
              "    </tr>\n",
              "    <tr>\n",
              "      <th>2</th>\n",
              "      <td>PMP Exam Prep Seminar -  PMBOK Guide 6</td>\n",
              "      <td>52653</td>\n",
              "    </tr>\n",
              "    <tr>\n",
              "      <th>3</th>\n",
              "      <td>The Complete Financial Analyst Course 2020</td>\n",
              "      <td>46447</td>\n",
              "    </tr>\n",
              "    <tr>\n",
              "      <th>4</th>\n",
              "      <td>An Entire MBA in 1 Course:Award Winning Busine...</td>\n",
              "      <td>41630</td>\n",
              "    </tr>\n",
              "  </tbody>\n",
              "</table>\n",
              "</div>\n",
              "    <div class=\"colab-df-buttons\">\n",
              "      \n",
              "  <div class=\"colab-df-container\">\n",
              "    <button class=\"colab-df-convert\" onclick=\"convertToInteractive('df-bf9acf1a-5db2-4f72-98ca-024f4459b4fd')\"\n",
              "            title=\"Convert this dataframe to an interactive table.\"\n",
              "            style=\"display:none;\">\n",
              "      \n",
              "  <svg xmlns=\"http://www.w3.org/2000/svg\" height=\"24px\" viewBox=\"0 -960 960 960\">\n",
              "    <path d=\"M120-120v-720h720v720H120Zm60-500h600v-160H180v160Zm220 220h160v-160H400v160Zm0 220h160v-160H400v160ZM180-400h160v-160H180v160Zm440 0h160v-160H620v160ZM180-180h160v-160H180v160Zm440 0h160v-160H620v160Z\"/>\n",
              "  </svg>\n",
              "    </button>\n",
              "    \n",
              "  <style>\n",
              "    .colab-df-container {\n",
              "      display:flex;\n",
              "      gap: 12px;\n",
              "    }\n",
              "\n",
              "    .colab-df-convert {\n",
              "      background-color: #E8F0FE;\n",
              "      border: none;\n",
              "      border-radius: 50%;\n",
              "      cursor: pointer;\n",
              "      display: none;\n",
              "      fill: #1967D2;\n",
              "      height: 32px;\n",
              "      padding: 0 0 0 0;\n",
              "      width: 32px;\n",
              "    }\n",
              "\n",
              "    .colab-df-convert:hover {\n",
              "      background-color: #E2EBFA;\n",
              "      box-shadow: 0px 1px 2px rgba(60, 64, 67, 0.3), 0px 1px 3px 1px rgba(60, 64, 67, 0.15);\n",
              "      fill: #174EA6;\n",
              "    }\n",
              "\n",
              "    .colab-df-buttons div {\n",
              "      margin-bottom: 4px;\n",
              "    }\n",
              "\n",
              "    [theme=dark] .colab-df-convert {\n",
              "      background-color: #3B4455;\n",
              "      fill: #D2E3FC;\n",
              "    }\n",
              "\n",
              "    [theme=dark] .colab-df-convert:hover {\n",
              "      background-color: #434B5C;\n",
              "      box-shadow: 0px 1px 3px 1px rgba(0, 0, 0, 0.15);\n",
              "      filter: drop-shadow(0px 1px 2px rgba(0, 0, 0, 0.3));\n",
              "      fill: #FFFFFF;\n",
              "    }\n",
              "  </style>\n",
              "\n",
              "    <script>\n",
              "      const buttonEl =\n",
              "        document.querySelector('#df-bf9acf1a-5db2-4f72-98ca-024f4459b4fd button.colab-df-convert');\n",
              "      buttonEl.style.display =\n",
              "        google.colab.kernel.accessAllowed ? 'block' : 'none';\n",
              "\n",
              "      async function convertToInteractive(key) {\n",
              "        const element = document.querySelector('#df-bf9acf1a-5db2-4f72-98ca-024f4459b4fd');\n",
              "        const dataTable =\n",
              "          await google.colab.kernel.invokeFunction('convertToInteractive',\n",
              "                                                    [key], {});\n",
              "        if (!dataTable) return;\n",
              "\n",
              "        const docLinkHtml = 'Like what you see? Visit the ' +\n",
              "          '<a target=\"_blank\" href=https://colab.research.google.com/notebooks/data_table.ipynb>data table notebook</a>'\n",
              "          + ' to learn more about interactive tables.';\n",
              "        element.innerHTML = '';\n",
              "        dataTable['output_type'] = 'display_data';\n",
              "        await google.colab.output.renderOutput(dataTable, element);\n",
              "        const docLink = document.createElement('div');\n",
              "        docLink.innerHTML = docLinkHtml;\n",
              "        element.appendChild(docLink);\n",
              "      }\n",
              "    </script>\n",
              "  </div>\n",
              "  \n",
              "    </div>\n",
              "  </div>\n",
              "  "
            ],
            "text/plain": [
              "                                               title  num_reviews\n",
              "0  The Complete SQL Bootcamp 2020: Go from Zero t...        78006\n",
              "1  Tableau 2020 A-Z: Hands-On Tableau Training fo...        54581\n",
              "2             PMP Exam Prep Seminar -  PMBOK Guide 6        52653\n",
              "3         The Complete Financial Analyst Course 2020        46447\n",
              "4  An Entire MBA in 1 Course:Award Winning Busine...        41630"
            ]
          },
          "execution_count": 22,
          "metadata": {},
          "output_type": "execute_result"
        }
      ],
      "source": [
        "top5_review = df.sort_values(by='num_reviews', ascending=False).head(5)\n",
        "top5_review[['title', 'num_reviews']]"
      ]
    },
    {
      "cell_type": "code",
      "execution_count": 23,
      "metadata": {
        "colab": {
          "base_uri": "https://localhost:8080/",
          "height": 1000
        },
        "id": "R2MHJfdaDPyU",
        "outputId": "4a6f0ffd-854b-4a0d-803a-c18dff4c172a"
      },
      "outputs": [
        {
          "data": {
            "text/plain": [
              "([0, 1, 2, 3, 4],\n",
              " [Text(0, 0, 'The Complete SQL Bootcamp 2020: Go from Zero to Hero'),\n",
              "  Text(1, 0, 'Tableau 2020 A-Z: Hands-On Tableau Training for Data Science'),\n",
              "  Text(2, 0, 'PMP Exam Prep Seminar -  PMBOK Guide 6'),\n",
              "  Text(3, 0, 'The Complete Financial Analyst Course 2020'),\n",
              "  Text(4, 0, 'An Entire MBA in 1 Course:Award Winning Business School Prof')])"
            ]
          },
          "execution_count": 23,
          "metadata": {},
          "output_type": "execute_result"
        },
        {
          "data": {
            "image/png": "[encoded data removed]",
            "text/plain": [
              "<Figure size 1000x600 with 1 Axes>"
            ]
          },
          "metadata": {},
          "output_type": "display_data"
        }
      ],
      "source": [
        "plt.figure(figsize=(10, 6))\n",
        "plt.bar(top5_review['title'], top5_review['num_reviews'])\n",
        "plt.title('Top 5 Course Berdasarkan Jumlah Review')\n",
        "plt.xlabel('Judul Course')\n",
        "plt.ylabel('Jumlah Review')\n",
        "plt.xticks(rotation=90)"
      ]
    },
    {
      "cell_type": "markdown",
      "metadata": {
        "id": "erB8en8aG9FZ"
      },
      "source": [
        "Course dengan jumlah review terbanyak ditempati oleh course dengan judul \tThe Complete SQL Bootcamp 2020: Go from Zero t...\" dengan total reivew sebesar 78006."
      ]
    },
    {
      "cell_type": "markdown",
      "metadata": {
        "id": "OzGMXCzWhuv4"
      },
      "source": [
        "# Data Preparation"
      ]
    },
    {
      "cell_type": "markdown",
      "metadata": {
        "id": "eQWt2AJog7Q_"
      },
      "source": [
        "## Pembersihan Data"
      ]
    },
    {
      "cell_type": "markdown",
      "metadata": {
        "id": "4kjd1of0hFrg"
      },
      "source": [
        "**Menangani Missing Value**"
      ]
    },
    {
      "cell_type": "code",
      "execution_count": 24,
      "metadata": {
        "colab": {
          "base_uri": "https://localhost:8080/",
          "height": 711
        },
        "id": "yakALUbeg91D",
        "outputId": "1f5be018-c010-4a9b-a082-62e665b06e23"
      },
      "outputs": [
        {
          "data": {
            "text/html": [
              "<div>\n",
              "<style scoped>\n",
              "    .dataframe tbody tr th:only-of-type {\n",
              "        vertical-align: middle;\n",
              "    }\n",
              "\n",
              "    .dataframe tbody tr th {\n",
              "        vertical-align: top;\n",
              "    }\n",
              "\n",
              "    .dataframe thead th {\n",
              "        text-align: right;\n",
              "    }\n",
              "</style>\n",
              "<table border=\"1\" class=\"dataframe\">\n",
              "  <thead>\n",
              "    <tr style=\"text-align: right;\">\n",
              "      <th></th>\n",
              "      <th>0</th>\n",
              "    </tr>\n",
              "  </thead>\n",
              "  <tbody>\n",
              "    <tr>\n",
              "      <th>id</th>\n",
              "      <td>0</td>\n",
              "    </tr>\n",
              "    <tr>\n",
              "      <th>title</th>\n",
              "      <td>0</td>\n",
              "    </tr>\n",
              "    <tr>\n",
              "      <th>url</th>\n",
              "      <td>0</td>\n",
              "    </tr>\n",
              "    <tr>\n",
              "      <th>is_paid</th>\n",
              "      <td>0</td>\n",
              "    </tr>\n",
              "    <tr>\n",
              "      <th>num_subscribers</th>\n",
              "      <td>0</td>\n",
              "    </tr>\n",
              "    <tr>\n",
              "      <th>avg_rating</th>\n",
              "      <td>0</td>\n",
              "    </tr>\n",
              "    <tr>\n",
              "      <th>avg_rating_recent</th>\n",
              "      <td>0</td>\n",
              "    </tr>\n",
              "    <tr>\n",
              "      <th>rating</th>\n",
              "      <td>0</td>\n",
              "    </tr>\n",
              "    <tr>\n",
              "      <th>num_reviews</th>\n",
              "      <td>0</td>\n",
              "    </tr>\n",
              "    <tr>\n",
              "      <th>is_wishlisted</th>\n",
              "      <td>0</td>\n",
              "    </tr>\n",
              "    <tr>\n",
              "      <th>num_published_lectures</th>\n",
              "      <td>0</td>\n",
              "    </tr>\n",
              "    <tr>\n",
              "      <th>num_published_practice_tests</th>\n",
              "      <td>0</td>\n",
              "    </tr>\n",
              "    <tr>\n",
              "      <th>created</th>\n",
              "      <td>0</td>\n",
              "    </tr>\n",
              "    <tr>\n",
              "      <th>published_time</th>\n",
              "      <td>0</td>\n",
              "    </tr>\n",
              "    <tr>\n",
              "      <th>discount_price__amount</th>\n",
              "      <td>1403</td>\n",
              "    </tr>\n",
              "    <tr>\n",
              "      <th>discount_price__currency</th>\n",
              "      <td>1403</td>\n",
              "    </tr>\n",
              "    <tr>\n",
              "      <th>discount_price__price_string</th>\n",
              "      <td>1403</td>\n",
              "    </tr>\n",
              "    <tr>\n",
              "      <th>price_detail__amount</th>\n",
              "      <td>497</td>\n",
              "    </tr>\n",
              "    <tr>\n",
              "      <th>price_detail__currency</th>\n",
              "      <td>497</td>\n",
              "    </tr>\n",
              "    <tr>\n",
              "      <th>price_detail__price_string</th>\n",
              "      <td>497</td>\n",
              "    </tr>\n",
              "  </tbody>\n",
              "</table>\n",
              "</div><br><label><b>dtype:</b> int64</label>"
            ],
            "text/plain": [
              "id                                 0\n",
              "title                              0\n",
              "url                                0\n",
              "is_paid                            0\n",
              "num_subscribers                    0\n",
              "avg_rating                         0\n",
              "avg_rating_recent                  0\n",
              "rating                             0\n",
              "num_reviews                        0\n",
              "is_wishlisted                      0\n",
              "num_published_lectures             0\n",
              "num_published_practice_tests       0\n",
              "created                            0\n",
              "published_time                     0\n",
              "discount_price__amount          1403\n",
              "discount_price__currency        1403\n",
              "discount_price__price_string    1403\n",
              "price_detail__amount             497\n",
              "price_detail__currency           497\n",
              "price_detail__price_string       497\n",
              "dtype: int64"
            ]
          },
          "execution_count": 24,
          "metadata": {},
          "output_type": "execute_result"
        }
      ],
      "source": [
        "df.isnull().sum()"
      ]
    },
    {
      "cell_type": "code",
      "execution_count": 25,
      "metadata": {
        "colab": {
          "base_uri": "https://localhost:8080/",
          "height": 711
        },
        "id": "1PdhD-mZhKrq",
        "outputId": "c43ca353-4edb-4e87-9b61-9a9204aa81d5"
      },
      "outputs": [
        {
          "data": {
            "text/html": [
              "<div>\n",
              "<style scoped>\n",
              "    .dataframe tbody tr th:only-of-type {\n",
              "        vertical-align: middle;\n",
              "    }\n",
              "\n",
              "    .dataframe tbody tr th {\n",
              "        vertical-align: top;\n",
              "    }\n",
              "\n",
              "    .dataframe thead th {\n",
              "        text-align: right;\n",
              "    }\n",
              "</style>\n",
              "<table border=\"1\" class=\"dataframe\">\n",
              "  <thead>\n",
              "    <tr style=\"text-align: right;\">\n",
              "      <th></th>\n",
              "      <th>0</th>\n",
              "    </tr>\n",
              "  </thead>\n",
              "  <tbody>\n",
              "    <tr>\n",
              "      <th>id</th>\n",
              "      <td>0</td>\n",
              "    </tr>\n",
              "    <tr>\n",
              "      <th>title</th>\n",
              "      <td>0</td>\n",
              "    </tr>\n",
              "    <tr>\n",
              "      <th>url</th>\n",
              "      <td>0</td>\n",
              "    </tr>\n",
              "    <tr>\n",
              "      <th>is_paid</th>\n",
              "      <td>0</td>\n",
              "    </tr>\n",
              "    <tr>\n",
              "      <th>num_subscribers</th>\n",
              "      <td>0</td>\n",
              "    </tr>\n",
              "    <tr>\n",
              "      <th>avg_rating</th>\n",
              "      <td>0</td>\n",
              "    </tr>\n",
              "    <tr>\n",
              "      <th>avg_rating_recent</th>\n",
              "      <td>0</td>\n",
              "    </tr>\n",
              "    <tr>\n",
              "      <th>rating</th>\n",
              "      <td>0</td>\n",
              "    </tr>\n",
              "    <tr>\n",
              "      <th>num_reviews</th>\n",
              "      <td>0</td>\n",
              "    </tr>\n",
              "    <tr>\n",
              "      <th>is_wishlisted</th>\n",
              "      <td>0</td>\n",
              "    </tr>\n",
              "    <tr>\n",
              "      <th>num_published_lectures</th>\n",
              "      <td>0</td>\n",
              "    </tr>\n",
              "    <tr>\n",
              "      <th>num_published_practice_tests</th>\n",
              "      <td>0</td>\n",
              "    </tr>\n",
              "    <tr>\n",
              "      <th>created</th>\n",
              "      <td>0</td>\n",
              "    </tr>\n",
              "    <tr>\n",
              "      <th>published_time</th>\n",
              "      <td>0</td>\n",
              "    </tr>\n",
              "    <tr>\n",
              "      <th>discount_price__amount</th>\n",
              "      <td>0</td>\n",
              "    </tr>\n",
              "    <tr>\n",
              "      <th>discount_price__currency</th>\n",
              "      <td>0</td>\n",
              "    </tr>\n",
              "    <tr>\n",
              "      <th>discount_price__price_string</th>\n",
              "      <td>0</td>\n",
              "    </tr>\n",
              "    <tr>\n",
              "      <th>price_detail__amount</th>\n",
              "      <td>0</td>\n",
              "    </tr>\n",
              "    <tr>\n",
              "      <th>price_detail__currency</th>\n",
              "      <td>0</td>\n",
              "    </tr>\n",
              "    <tr>\n",
              "      <th>price_detail__price_string</th>\n",
              "      <td>0</td>\n",
              "    </tr>\n",
              "  </tbody>\n",
              "</table>\n",
              "</div><br><label><b>dtype:</b> int64</label>"
            ],
            "text/plain": [
              "id                              0\n",
              "title                           0\n",
              "url                             0\n",
              "is_paid                         0\n",
              "num_subscribers                 0\n",
              "avg_rating                      0\n",
              "avg_rating_recent               0\n",
              "rating                          0\n",
              "num_reviews                     0\n",
              "is_wishlisted                   0\n",
              "num_published_lectures          0\n",
              "num_published_practice_tests    0\n",
              "created                         0\n",
              "published_time                  0\n",
              "discount_price__amount          0\n",
              "discount_price__currency        0\n",
              "discount_price__price_string    0\n",
              "price_detail__amount            0\n",
              "price_detail__currency          0\n",
              "price_detail__price_string      0\n",
              "dtype: int64"
            ]
          },
          "execution_count": 25,
          "metadata": {},
          "output_type": "execute_result"
        }
      ],
      "source": [
        "df_cleaned = df.dropna()\n",
        "df_cleaned.isnull().sum()"
      ]
    },
    {
      "cell_type": "markdown",
      "metadata": {
        "id": "I0sWmLiohQBC"
      },
      "source": [
        "Pada tahap ini kita akan melakukan penghilangan nilai kosong, penghilangan nilai kolong ini dilakukan dengan cara menghapus Baris yang memiliki nlai kosong tersebut, hal ini dilakukan karena jumlah data yang cukup banyak dan tidak akan mempengaruhi proses selanjutnya jika dilakukan penghapusan pada data."
      ]
    },
    {
      "cell_type": "markdown",
      "metadata": {
        "id": "21T_ngF7hSNC"
      },
      "source": [
        "**Pembersihan pada kolom rating**"
      ]
    },
    {
      "cell_type": "code",
      "execution_count": 26,
      "metadata": {
        "colab": {
          "base_uri": "https://localhost:8080/",
          "height": 490
        },
        "id": "PgcfW5enhUXB",
        "outputId": "5985daba-9e10-47d7-c398-b31979128186"
      },
      "outputs": [
        {
          "data": {
            "text/html": [
              "<div>\n",
              "<style scoped>\n",
              "    .dataframe tbody tr th:only-of-type {\n",
              "        vertical-align: middle;\n",
              "    }\n",
              "\n",
              "    .dataframe tbody tr th {\n",
              "        vertical-align: top;\n",
              "    }\n",
              "\n",
              "    .dataframe thead th {\n",
              "        text-align: right;\n",
              "    }\n",
              "</style>\n",
              "<table border=\"1\" class=\"dataframe\">\n",
              "  <thead>\n",
              "    <tr style=\"text-align: right;\">\n",
              "      <th></th>\n",
              "      <th>count</th>\n",
              "    </tr>\n",
              "    <tr>\n",
              "      <th>rating</th>\n",
              "      <th></th>\n",
              "    </tr>\n",
              "  </thead>\n",
              "  <tbody>\n",
              "    <tr>\n",
              "      <th>0.00000</th>\n",
              "      <td>563</td>\n",
              "    </tr>\n",
              "    <tr>\n",
              "      <th>5.00000</th>\n",
              "      <td>273</td>\n",
              "    </tr>\n",
              "    <tr>\n",
              "      <th>4.00000</th>\n",
              "      <td>58</td>\n",
              "    </tr>\n",
              "    <tr>\n",
              "      <th>3.00000</th>\n",
              "      <td>45</td>\n",
              "    </tr>\n",
              "    <tr>\n",
              "      <th>3.50000</th>\n",
              "      <td>40</td>\n",
              "    </tr>\n",
              "    <tr>\n",
              "      <th>...</th>\n",
              "      <td>...</td>\n",
              "    </tr>\n",
              "    <tr>\n",
              "      <th>4.31781</th>\n",
              "      <td>1</td>\n",
              "    </tr>\n",
              "    <tr>\n",
              "      <th>3.98656</th>\n",
              "      <td>1</td>\n",
              "    </tr>\n",
              "    <tr>\n",
              "      <th>3.64913</th>\n",
              "      <td>1</td>\n",
              "    </tr>\n",
              "    <tr>\n",
              "      <th>4.08308</th>\n",
              "      <td>1</td>\n",
              "    </tr>\n",
              "    <tr>\n",
              "      <th>3.85002</th>\n",
              "      <td>1</td>\n",
              "    </tr>\n",
              "  </tbody>\n",
              "</table>\n",
              "<p>10709 rows × 1 columns</p>\n",
              "</div><br><label><b>dtype:</b> int64</label>"
            ],
            "text/plain": [
              "rating\n",
              "0.00000    563\n",
              "5.00000    273\n",
              "4.00000     58\n",
              "3.00000     45\n",
              "3.50000     40\n",
              "          ... \n",
              "4.31781      1\n",
              "3.98656      1\n",
              "3.64913      1\n",
              "4.08308      1\n",
              "3.85002      1\n",
              "Name: count, Length: 10709, dtype: int64"
            ]
          },
          "execution_count": 26,
          "metadata": {},
          "output_type": "execute_result"
        }
      ],
      "source": [
        "df_cleaned['rating'].value_counts()"
      ]
    },
    {
      "cell_type": "markdown",
      "metadata": {
        "id": "56diPFiFhY8n"
      },
      "source": [
        "Data yang memiliki rating 0 dapat dikatakan bahwa course belum pernah dilakukan pembelian, Maka dari itu kita akan mengambil nilai rating yang >=1."
      ]
    },
    {
      "cell_type": "code",
      "execution_count": 27,
      "metadata": {
        "id": "fkCGOP-khgUi"
      },
      "outputs": [],
      "source": [
        "df_cleaned = df_cleaned[df_cleaned['rating'] >= 1]"
      ]
    },
    {
      "cell_type": "code",
      "execution_count": 28,
      "metadata": {
        "colab": {
          "base_uri": "https://localhost:8080/",
          "height": 490
        },
        "id": "OICxjKUuhn5S",
        "outputId": "d525e14e-1a6e-4293-a6ba-4d76c6cf5028"
      },
      "outputs": [
        {
          "data": {
            "text/html": [
              "<div>\n",
              "<style scoped>\n",
              "    .dataframe tbody tr th:only-of-type {\n",
              "        vertical-align: middle;\n",
              "    }\n",
              "\n",
              "    .dataframe tbody tr th {\n",
              "        vertical-align: top;\n",
              "    }\n",
              "\n",
              "    .dataframe thead th {\n",
              "        text-align: right;\n",
              "    }\n",
              "</style>\n",
              "<table border=\"1\" class=\"dataframe\">\n",
              "  <thead>\n",
              "    <tr style=\"text-align: right;\">\n",
              "      <th></th>\n",
              "      <th>count</th>\n",
              "    </tr>\n",
              "    <tr>\n",
              "      <th>rating</th>\n",
              "      <th></th>\n",
              "    </tr>\n",
              "  </thead>\n",
              "  <tbody>\n",
              "    <tr>\n",
              "      <th>5.00000</th>\n",
              "      <td>273</td>\n",
              "    </tr>\n",
              "    <tr>\n",
              "      <th>4.00000</th>\n",
              "      <td>58</td>\n",
              "    </tr>\n",
              "    <tr>\n",
              "      <th>3.00000</th>\n",
              "      <td>45</td>\n",
              "    </tr>\n",
              "    <tr>\n",
              "      <th>3.50000</th>\n",
              "      <td>40</td>\n",
              "    </tr>\n",
              "    <tr>\n",
              "      <th>4.50000</th>\n",
              "      <td>38</td>\n",
              "    </tr>\n",
              "    <tr>\n",
              "      <th>...</th>\n",
              "      <td>...</td>\n",
              "    </tr>\n",
              "    <tr>\n",
              "      <th>3.23317</th>\n",
              "      <td>1</td>\n",
              "    </tr>\n",
              "    <tr>\n",
              "      <th>4.31781</th>\n",
              "      <td>1</td>\n",
              "    </tr>\n",
              "    <tr>\n",
              "      <th>3.98656</th>\n",
              "      <td>1</td>\n",
              "    </tr>\n",
              "    <tr>\n",
              "      <th>3.64913</th>\n",
              "      <td>1</td>\n",
              "    </tr>\n",
              "    <tr>\n",
              "      <th>3.95716</th>\n",
              "      <td>1</td>\n",
              "    </tr>\n",
              "  </tbody>\n",
              "</table>\n",
              "<p>10707 rows × 1 columns</p>\n",
              "</div><br><label><b>dtype:</b> int64</label>"
            ],
            "text/plain": [
              "rating\n",
              "5.00000    273\n",
              "4.00000     58\n",
              "3.00000     45\n",
              "3.50000     40\n",
              "4.50000     38\n",
              "          ... \n",
              "3.23317      1\n",
              "4.31781      1\n",
              "3.98656      1\n",
              "3.64913      1\n",
              "3.95716      1\n",
              "Name: count, Length: 10707, dtype: int64"
            ]
          },
          "execution_count": 28,
          "metadata": {},
          "output_type": "execute_result"
        }
      ],
      "source": [
        "df_cleaned['rating'].value_counts()"
      ]
    },
    {
      "cell_type": "markdown",
      "metadata": {
        "id": "udII2taHhqKX"
      },
      "source": [
        "Sekarang terlihat bahwa Course saat ini memiliki rating 1 - 5. Dalam artian course yang akan digunakan ini adalah course yang sudah pernah dilakukan pembelian sebelumnya."
      ]
    },
    {
      "cell_type": "markdown",
      "metadata": {
        "id": "0kpczpC0h8NO"
      },
      "source": [
        "## Feature Engineering"
      ]
    },
    {
      "cell_type": "markdown",
      "metadata": {
        "id": "RN0338W8iA2V"
      },
      "source": [
        "Pembuatan kolom bahasa ini dilakukan untuk nantinya melakukan filtering terhadap course yang akan digunakan, dengan kata lain. Course yang digunakan adalah course yang berbahasa inggris.\n",
        "\n",
        "\n",
        "Pembuatan kolom bahasa ini memanfaatkan library langdetect untuk mendeteksi bahasa pada fitur title nantinya."
      ]
    },
    {
      "cell_type": "code",
      "execution_count": 29,
      "metadata": {
        "colab": {
          "base_uri": "https://localhost:8080/"
        },
        "id": "HGic1WI1iGWx",
        "outputId": "4ef8b4cc-d974-4d85-c2a5-5c55e0f50031"
      },
      "outputs": [
        {
          "name": "stdout",
          "output_type": "stream",
          "text": [
            "                                                title language\n",
            "2              PMP Exam Prep Seminar -  PMBOK Guide 6       ca\n",
            "7   Beginner to Pro in Excel: Financial Modeling a...       it\n",
            "11                     Business Analysis Fundamentals       de\n",
            "24  Beginning Project Management: Project Manageme...       nl\n",
            "29         Sales Training: Practical Sales Techniques       fr\n",
            "34  Email Etiquette: Write More Effective Emails A...       fr\n",
            "45                               Six Sigma White Belt       de\n",
            "70               Data Analysis Essentials Using Excel       ca\n",
            "72                     Better Business Writing Skills       no\n",
            "78                             Product Management 101       fr\n"
          ]
        }
      ],
      "source": [
        "# Buat fungsi untuk deteksi bahasa\n",
        "def detect_language(text):\n",
        "    try:\n",
        "        return detect(text)\n",
        "    except LangDetectException:\n",
        "        return \"error\"\n",
        "\n",
        "# Tambahkan kolom baru berisi hasil deteksi bahasa\n",
        "df_cleaned['language'] = df_cleaned['title'].apply(detect_language)\n",
        "\n",
        "# Tampilkan judul yang bukan bahasa Inggris (kode 'en')\n",
        "non_english_titles = df_cleaned[df_cleaned['language'] != 'en']\n",
        "\n",
        "# Tampilkan beberapa contohnya\n",
        "print(non_english_titles[['title', 'language']].head(10))"
      ]
    },
    {
      "cell_type": "markdown",
      "metadata": {
        "id": "lRvjP_xlmkLe"
      },
      "source": [
        "## Seleksi Fitur"
      ]
    },
    {
      "cell_type": "markdown",
      "metadata": {
        "id": "_Q7fW2eEIBDM"
      },
      "source": [
        "Pada bagian ini kita akan melakukan seleksi fitur yang digunakan. Pemilihan fitur didasarkan pada konsep Content-Based Filtering, di mana rekomendasi diberikan berdasarkan kemiripan konten atau atribut dari item (dalam hal ini, kursus), bukan berdasarkan perilaku pengguna lain.\n",
        "\n",
        "\n",
        "Fitur yang dipilih yaitu:\n",
        "\n",
        "- id – untuk identifikasi unik setiap kursus.\n",
        "\n",
        "- title – merepresentasikan konten utama dari kursus dalam bentuk teks, yang digunakan untuk menghitung kemiripan antar kursus menggunakan metode seperti TF-IDF.\n",
        "\n",
        "- rating – sebagai indikator kualitas berdasarkan penilaian pengguna, digunakan untuk memberikan bobot tambahan dalam sistem hybrid atau analisis preferensi.\n",
        "\n",
        "- price_detail__amount – sebagai representasi nilai ekonomi kursus, dapat digunakan untuk menyesuaikan rekomendasi berdasarkan harga yang relevan dengan pengguna.\n",
        "\n",
        "- language - sebagai filtering pada data yang menggunakan bahasa inggris"
      ]
    },
    {
      "cell_type": "code",
      "execution_count": 30,
      "metadata": {
        "colab": {
          "base_uri": "https://localhost:8080/",
          "height": 424
        },
        "id": "OcB7t9HQmikE",
        "outputId": "7174097c-256a-4f4d-fd49-dfa87c577b38"
      },
      "outputs": [
        {
          "data": {
            "text/html": [
              "\n",
              "  <div id=\"df-75eb72af-94b5-4d5e-912d-416ca5661af4\" class=\"colab-df-container\">\n",
              "    <div>\n",
              "<style scoped>\n",
              "    .dataframe tbody tr th:only-of-type {\n",
              "        vertical-align: middle;\n",
              "    }\n",
              "\n",
              "    .dataframe tbody tr th {\n",
              "        vertical-align: top;\n",
              "    }\n",
              "\n",
              "    .dataframe thead th {\n",
              "        text-align: right;\n",
              "    }\n",
              "</style>\n",
              "<table border=\"1\" class=\"dataframe\">\n",
              "  <thead>\n",
              "    <tr style=\"text-align: right;\">\n",
              "      <th></th>\n",
              "      <th>id</th>\n",
              "      <th>title</th>\n",
              "      <th>rating</th>\n",
              "      <th>price_detail__amount</th>\n",
              "      <th>language</th>\n",
              "    </tr>\n",
              "  </thead>\n",
              "  <tbody>\n",
              "    <tr>\n",
              "      <th>0</th>\n",
              "      <td>762616</td>\n",
              "      <td>The Complete SQL Bootcamp 2020: Go from Zero t...</td>\n",
              "      <td>4.67874</td>\n",
              "      <td>8640.0</td>\n",
              "      <td>en</td>\n",
              "    </tr>\n",
              "    <tr>\n",
              "      <th>1</th>\n",
              "      <td>937678</td>\n",
              "      <td>Tableau 2020 A-Z: Hands-On Tableau Training fo...</td>\n",
              "      <td>4.60015</td>\n",
              "      <td>8640.0</td>\n",
              "      <td>en</td>\n",
              "    </tr>\n",
              "    <tr>\n",
              "      <th>2</th>\n",
              "      <td>1361790</td>\n",
              "      <td>PMP Exam Prep Seminar -  PMBOK Guide 6</td>\n",
              "      <td>4.59326</td>\n",
              "      <td>8640.0</td>\n",
              "      <td>ca</td>\n",
              "    </tr>\n",
              "    <tr>\n",
              "      <th>3</th>\n",
              "      <td>648826</td>\n",
              "      <td>The Complete Financial Analyst Course 2020</td>\n",
              "      <td>4.53772</td>\n",
              "      <td>8640.0</td>\n",
              "      <td>en</td>\n",
              "    </tr>\n",
              "    <tr>\n",
              "      <th>4</th>\n",
              "      <td>637930</td>\n",
              "      <td>An Entire MBA in 1 Course:Award Winning Busine...</td>\n",
              "      <td>4.47173</td>\n",
              "      <td>8640.0</td>\n",
              "      <td>en</td>\n",
              "    </tr>\n",
              "    <tr>\n",
              "      <th>...</th>\n",
              "      <td>...</td>\n",
              "      <td>...</td>\n",
              "      <td>...</td>\n",
              "      <td>...</td>\n",
              "      <td>...</td>\n",
              "    </tr>\n",
              "    <tr>\n",
              "      <th>13128</th>\n",
              "      <td>2675396</td>\n",
              "      <td>Finanças Empresariais I</td>\n",
              "      <td>3.50000</td>\n",
              "      <td>8640.0</td>\n",
              "      <td>pt</td>\n",
              "    </tr>\n",
              "    <tr>\n",
              "      <th>13129</th>\n",
              "      <td>2710904</td>\n",
              "      <td>تعليم الفوركس - تعلم البرايس اكشن وموجات ولفي</td>\n",
              "      <td>3.00000</td>\n",
              "      <td>8640.0</td>\n",
              "      <td>ar</td>\n",
              "    </tr>\n",
              "    <tr>\n",
              "      <th>13131</th>\n",
              "      <td>2864216</td>\n",
              "      <td>Bagaimana Cara Melakukan Penelitian Akuntansi ...</td>\n",
              "      <td>5.00000</td>\n",
              "      <td>2560.0</td>\n",
              "      <td>id</td>\n",
              "    </tr>\n",
              "    <tr>\n",
              "      <th>13281</th>\n",
              "      <td>3338642</td>\n",
              "      <td>Planejamento Financeiro com Ferramentas Práticas</td>\n",
              "      <td>4.50000</td>\n",
              "      <td>2560.0</td>\n",
              "      <td>pt</td>\n",
              "    </tr>\n",
              "    <tr>\n",
              "      <th>13326</th>\n",
              "      <td>3209377</td>\n",
              "      <td>Cours complet sur la Blockchain &amp; les Crypto m...</td>\n",
              "      <td>5.00000</td>\n",
              "      <td>1920.0</td>\n",
              "      <td>fr</td>\n",
              "    </tr>\n",
              "  </tbody>\n",
              "</table>\n",
              "<p>11640 rows × 5 columns</p>\n",
              "</div>\n",
              "    <div class=\"colab-df-buttons\">\n",
              "      \n",
              "  <div class=\"colab-df-container\">\n",
              "    <button class=\"colab-df-convert\" onclick=\"convertToInteractive('df-75eb72af-94b5-4d5e-912d-416ca5661af4')\"\n",
              "            title=\"Convert this dataframe to an interactive table.\"\n",
              "            style=\"display:none;\">\n",
              "      \n",
              "  <svg xmlns=\"http://www.w3.org/2000/svg\" height=\"24px\" viewBox=\"0 -960 960 960\">\n",
              "    <path d=\"M120-120v-720h720v720H120Zm60-500h600v-160H180v160Zm220 220h160v-160H400v160Zm0 220h160v-160H400v160ZM180-400h160v-160H180v160Zm440 0h160v-160H620v160ZM180-180h160v-160H180v160Zm440 0h160v-160H620v160Z\"/>\n",
              "  </svg>\n",
              "    </button>\n",
              "    \n",
              "  <style>\n",
              "    .colab-df-container {\n",
              "      display:flex;\n",
              "      gap: 12px;\n",
              "    }\n",
              "\n",
              "    .colab-df-convert {\n",
              "      background-color: #E8F0FE;\n",
              "      border: none;\n",
              "      border-radius: 50%;\n",
              "      cursor: pointer;\n",
              "      display: none;\n",
              "      fill: #1967D2;\n",
              "      height: 32px;\n",
              "      padding: 0 0 0 0;\n",
              "      width: 32px;\n",
              "    }\n",
              "\n",
              "    .colab-df-convert:hover {\n",
              "      background-color: #E2EBFA;\n",
              "      box-shadow: 0px 1px 2px rgba(60, 64, 67, 0.3), 0px 1px 3px 1px rgba(60, 64, 67, 0.15);\n",
              "      fill: #174EA6;\n",
              "    }\n",
              "\n",
              "    .colab-df-buttons div {\n",
              "      margin-bottom: 4px;\n",
              "    }\n",
              "\n",
              "    [theme=dark] .colab-df-convert {\n",
              "      background-color: #3B4455;\n",
              "      fill: #D2E3FC;\n",
              "    }\n",
              "\n",
              "    [theme=dark] .colab-df-convert:hover {\n",
              "      background-color: #434B5C;\n",
              "      box-shadow: 0px 1px 3px 1px rgba(0, 0, 0, 0.15);\n",
              "      filter: drop-shadow(0px 1px 2px rgba(0, 0, 0, 0.3));\n",
              "      fill: #FFFFFF;\n",
              "    }\n",
              "  </style>\n",
              "\n",
              "    <script>\n",
              "      const buttonEl =\n",
              "        document.querySelector('#df-75eb72af-94b5-4d5e-912d-416ca5661af4 button.colab-df-convert');\n",
              "      buttonEl.style.display =\n",
              "        google.colab.kernel.accessAllowed ? 'block' : 'none';\n",
              "\n",
              "      async function convertToInteractive(key) {\n",
              "        const element = document.querySelector('#df-75eb72af-94b5-4d5e-912d-416ca5661af4');\n",
              "        const dataTable =\n",
              "          await google.colab.kernel.invokeFunction('convertToInteractive',\n",
              "                                                    [key], {});\n",
              "        if (!dataTable) return;\n",
              "\n",
              "        const docLinkHtml = 'Like what you see? Visit the ' +\n",
              "          '<a target=\"_blank\" href=https://colab.research.google.com/notebooks/data_table.ipynb>data table notebook</a>'\n",
              "          + ' to learn more about interactive tables.';\n",
              "        element.innerHTML = '';\n",
              "        dataTable['output_type'] = 'display_data';\n",
              "        await google.colab.output.renderOutput(dataTable, element);\n",
              "        const docLink = document.createElement('div');\n",
              "        docLink.innerHTML = docLinkHtml;\n",
              "        element.appendChild(docLink);\n",
              "      }\n",
              "    </script>\n",
              "  </div>\n",
              "  \n",
              "    </div>\n",
              "  </div>\n",
              "  "
            ],
            "text/plain": [
              "            id                                              title   rating  \\\n",
              "0       762616  The Complete SQL Bootcamp 2020: Go from Zero t...  4.67874   \n",
              "1       937678  Tableau 2020 A-Z: Hands-On Tableau Training fo...  4.60015   \n",
              "2      1361790             PMP Exam Prep Seminar -  PMBOK Guide 6  4.59326   \n",
              "3       648826         The Complete Financial Analyst Course 2020  4.53772   \n",
              "4       637930  An Entire MBA in 1 Course:Award Winning Busine...  4.47173   \n",
              "...        ...                                                ...      ...   \n",
              "13128  2675396                            Finanças Empresariais I  3.50000   \n",
              "13129  2710904      تعليم الفوركس - تعلم البرايس اكشن وموجات ولفي  3.00000   \n",
              "13131  2864216  Bagaimana Cara Melakukan Penelitian Akuntansi ...  5.00000   \n",
              "13281  3338642   Planejamento Financeiro com Ferramentas Práticas  4.50000   \n",
              "13326  3209377  Cours complet sur la Blockchain & les Crypto m...  5.00000   \n",
              "\n",
              "       price_detail__amount language  \n",
              "0                    8640.0       en  \n",
              "1                    8640.0       en  \n",
              "2                    8640.0       ca  \n",
              "3                    8640.0       en  \n",
              "4                    8640.0       en  \n",
              "...                     ...      ...  \n",
              "13128                8640.0       pt  \n",
              "13129                8640.0       ar  \n",
              "13131                2560.0       id  \n",
              "13281                2560.0       pt  \n",
              "13326                1920.0       fr  \n",
              "\n",
              "[11640 rows x 5 columns]"
            ]
          },
          "execution_count": 30,
          "metadata": {},
          "output_type": "execute_result"
        }
      ],
      "source": [
        "df_col = [\n",
        "    'id',\n",
        "    'title',\n",
        "    'rating',\n",
        "    'price_detail__amount',\n",
        "    'language'\n",
        "]\n",
        "\n",
        "df_new = df_cleaned[df_col]\n",
        "df_new"
      ]
    },
    {
      "cell_type": "markdown",
      "metadata": {
        "id": "exTF051oiUZf"
      },
      "source": [
        "## Filter Data Berdasarkan Bahasa"
      ]
    },
    {
      "cell_type": "markdown",
      "metadata": {
        "id": "1iDWUrZjIHUc"
      },
      "source": [
        "Selanjutnya kita akan melakukan filter terhadap data yang sudah dipilih berdasarkan fitur Bahasa. Dimana hal ini dilakukan aagar kita berfokus pada course yang menggunakan bahasa inggris."
      ]
    },
    {
      "cell_type": "code",
      "execution_count": 31,
      "metadata": {
        "id": "jR9D98wA1EaK"
      },
      "outputs": [],
      "source": [
        "df_new = df_new[df_new['language']=='en']"
      ]
    },
    {
      "cell_type": "code",
      "execution_count": 32,
      "metadata": {
        "colab": {
          "base_uri": "https://localhost:8080/"
        },
        "id": "jOl80maXIcE5",
        "outputId": "68f3a4bd-6b70-4c34-d4a0-9cd886a6d74a"
      },
      "outputs": [
        {
          "name": "stdout",
          "output_type": "stream",
          "text": [
            "<class 'pandas.core.frame.DataFrame'>\n",
            "Index: 9761 entries, 0 to 13127\n",
            "Data columns (total 5 columns):\n",
            " #   Column                Non-Null Count  Dtype  \n",
            "---  ------                --------------  -----  \n",
            " 0   id                    9761 non-null   int64  \n",
            " 1   title                 9761 non-null   object \n",
            " 2   rating                9761 non-null   float64\n",
            " 3   price_detail__amount  9761 non-null   float64\n",
            " 4   language              9761 non-null   object \n",
            "dtypes: float64(2), int64(1), object(2)\n",
            "memory usage: 457.5+ KB\n"
          ]
        }
      ],
      "source": [
        "df_new.info()"
      ]
    },
    {
      "cell_type": "markdown",
      "metadata": {
        "id": "J1F8Ik_AIg4X"
      },
      "source": [
        "Tampak bahwa data yang bersih dan siap digunakan saat ini berjumlah 9761  baris dan 5 kolom. Namun perlu diketahui untuk kolom language nantinya tidak akan digunakan. Karena kolom tersebut hanya digunakan untuk melakukan filtering di tahap sebelumnya."
      ]
    },
    {
      "cell_type": "markdown",
      "metadata": {
        "id": "a6G7WgUcxMo3"
      },
      "source": [
        "## Bersihkan judul dari spasi/tanda baca"
      ]
    },
    {
      "cell_type": "markdown",
      "metadata": {
        "id": "ILKKEGrx6LoO"
      },
      "source": [
        "Tahap ini dilakukan pembersihan sepasi dan tanda baca pada fitur title, dilakukan agar mengurangi kesalahan pada proses rekomendasi sebelum masuk ke tahap TFIDF"
      ]
    },
    {
      "cell_type": "code",
      "execution_count": 33,
      "metadata": {
        "colab": {
          "base_uri": "https://localhost:8080/"
        },
        "id": "zFQHag-zxRPp",
        "outputId": "15681d28-d8e0-4c98-869d-290069c9cc41"
      },
      "outputs": [
        {
          "name": "stderr",
          "output_type": "stream",
          "text": [
            "<ipython-input-33-0a87dd0e3afa>:1: SettingWithCopyWarning: \n",
            "A value is trying to be set on a copy of a slice from a DataFrame.\n",
            "Try using .loc[row_indexer,col_indexer] = value instead\n",
            "\n",
            "See the caveats in the documentation: https://pandas.pydata.org/pandas-docs/stable/user_guide/indexing.html#returning-a-view-versus-a-copy\n",
            "  df_new['title'] = df_new['title'].str.strip().str.lower()\n"
          ]
        }
      ],
      "source": [
        "df_new['title'] = df_new['title'].str.strip().str.lower()"
      ]
    },
    {
      "cell_type": "markdown",
      "metadata": {
        "id": "jYTm41vjofL-"
      },
      "source": [
        "## TF-IDF"
      ]
    },
    {
      "cell_type": "markdown",
      "metadata": {
        "id": "M29bEw17JW9P"
      },
      "source": [
        "Sebelum membangun sistem rekomendasi berbasis konten, diperlukan transformasi data teks (judul kursus) menjadi bentuk numerik agar dapat dihitung kemiripannya. Oleh karena itu, dilakukan proses ekstraksi fitur teks menggunakan TF-IDF (Term Frequency-Inverse Document Frequency) pada fitur title. Dalam hal ini stop_words juga digunakan untuk menghilangkan kata-kata umum dalam bahasa inggris."
      ]
    },
    {
      "cell_type": "code",
      "execution_count": 34,
      "metadata": {
        "id": "QpSfbD4GD7zg"
      },
      "outputs": [],
      "source": [
        "tfidf = TfidfVectorizer(stop_words='english')\n",
        "tfidf_matrix = tfidf.fit_transform(df_new['title'])"
      ]
    },
    {
      "cell_type": "markdown",
      "metadata": {
        "id": "fxWVGsxYFTH3"
      },
      "source": [
        "## Standarisasi fitur numerik"
      ]
    },
    {
      "cell_type": "markdown",
      "metadata": {
        "id": "2pQuwu4yJyMO"
      },
      "source": [
        "Selain fitur berbasis teks, kita juga memanfaatkan fitur numerik seperti rata-rata rating (avg_rating) dan harga kursus (price_detail__amount) untuk meningkatkan kualitas rekomendasi. Namun, karena skala nilai dari masing-masing fitur bisa sangat berbeda (misalnya, rating berkisar antara 0–5, sedangkan harga bisa mencapai ratusan dolar), maka perlu dilakukan proses normalisasi agar kedua fitur memiliki skala yang sebanding.\n",
        "\n",
        "Pada tahap ini digunakan metode Min-Max Scaling untuk mengubah nilai dari setiap fitur ke dalam rentang 0 hingga 1. Tujuannya adalah agar tidak ada fitur yang mendominasi hasil perhitungan karena perbedaan skala yang besar."
      ]
    },
    {
      "cell_type": "code",
      "execution_count": 35,
      "metadata": {
        "id": "Md6n-m2sFXG4"
      },
      "outputs": [],
      "source": [
        "scaler = MinMaxScaler()\n",
        "numerical_features = scaler.fit_transform(df_new[['rating','price_detail__amount']])"
      ]
    },
    {
      "cell_type": "markdown",
      "metadata": {
        "id": "pF7o62v2FeUB"
      },
      "source": [
        "## Gabungkan Fitur hasil TF-IDF dengan Fitur Numerik"
      ]
    },
    {
      "cell_type": "markdown",
      "metadata": {
        "id": "ojvf59x9KCVH"
      },
      "source": [
        "Penggabungan ini dilakukan karena kita menerapkan pendekatan Content-Based Filtering berbasis hybrid, di mana sistem rekomendasi tidak hanya mempertimbangkan kemiripan dari judul kursus, tetapi juga memperhitungkan aspek kuantitatif seperti rating dan harga kursus.\n",
        "\n",
        "Agar data numerik bisa digabungkan dengan data TF-IDF (berbentuk sparse matrix), maka fitur numerik yang telah dinormalisasi terlebih dahulu diubah menjadi sparse matrix menggunakan csr_matrix. Kemudian, kita gabungkan kedua matrix menggunakan fungsi hstack() dari SciPy."
      ]
    },
    {
      "cell_type": "code",
      "execution_count": 36,
      "metadata": {
        "id": "LKA_gp4GFhtH"
      },
      "outputs": [],
      "source": [
        "numerical_sparse = csr_matrix(numerical_features)\n",
        "\n",
        "# Gabungkan\n",
        "hybrid_matrix = hstack([tfidf_matrix, numerical_sparse])"
      ]
    },
    {
      "cell_type": "markdown",
      "metadata": {
        "id": "Qlp3ofnAiAI1"
      },
      "source": [
        "# Modeling and Results"
      ]
    },
    {
      "cell_type": "markdown",
      "metadata": {
        "id": "xhWjAeTLi_3H"
      },
      "source": [
        "## Pendekatan 1 : Hybrid Filtering"
      ]
    },
    {
      "cell_type": "markdown",
      "metadata": {
        "id": "lo8jygqVlQ9E"
      },
      "source": [
        "**Hybrid Filtering (Content-Based + Rating Weighting)**\n",
        "\n",
        "Menggabungkan content-based filtering dengan bobot tambahan dari kolom rating dan price_detail__amount. Dalam pendekatan ini, hasil dari cosine similarity dimodifikasi agar mempertimbangkan rating dan harga.\n",
        "\n",
        "Kelebihan :\n",
        "- Menghasilkan rekomendasi yang tidak hanya mirip secara konten, tetapi juga berkualitas tinggi (rating).\n",
        "\n",
        "- Dapat disesuaikan dengan preferensi pengguna (misal: harga murah atau rating tinggi).\n",
        "\n",
        "- Lebih informatif dalam pengambilan keputusan.\n",
        "\n",
        "Kekurangan :\n",
        "- Lebih kompleks dalam implementasi.\n",
        "\n",
        "- Perlu normalisasi data numerik agar bobot adil.\n",
        "\n",
        "- Tidak cocok jika sebagian besar data rating atau price kosong."
      ]
    },
    {
      "cell_type": "markdown",
      "metadata": {
        "id": "q9LpX-klFtXL"
      },
      "source": [
        "### Cosine Similirity"
      ]
    },
    {
      "cell_type": "markdown",
      "metadata": {
        "id": "H_PIsOkEKTfx"
      },
      "source": [
        "Langkah selanjutnya adalah menghitung kemiripan antar kursus menggunakan Cosine Similarity."
      ]
    },
    {
      "cell_type": "code",
      "execution_count": 37,
      "metadata": {
        "id": "nHQv19waFvoq"
      },
      "outputs": [],
      "source": [
        "cosine_sim = cosine_similarity(hybrid_matrix, hybrid_matrix)"
      ]
    },
    {
      "cell_type": "code",
      "execution_count": 38,
      "metadata": {
        "colab": {
          "base_uri": "https://localhost:8080/"
        },
        "id": "99gvmcRiFx_k",
        "outputId": "1bdfbbfb-12ef-44aa-9354-803c68b515d0"
      },
      "outputs": [
        {
          "data": {
            "text/plain": [
              "array([[1.        , 0.60443059, 0.66497103, ..., 0.48089319, 0.54240486,\n",
              "        0.42310228],\n",
              "       [0.60443059, 1.        , 0.61063386, ..., 0.47554492, 0.53785525,\n",
              "        0.4671854 ],\n",
              "       [0.66497103, 0.61063386, 1.        , ..., 0.51530777, 0.53414984,\n",
              "        0.41247362],\n",
              "       ...,\n",
              "       [0.48089319, 0.47554492, 0.51530777, ..., 1.        , 0.51236503,\n",
              "        0.49566257],\n",
              "       [0.54240486, 0.53785525, 0.53414984, ..., 0.51236503, 1.        ,\n",
              "        0.47766515],\n",
              "       [0.42310228, 0.4671854 , 0.41247362, ..., 0.49566257, 0.47766515,\n",
              "        1.        ]])"
            ]
          },
          "execution_count": 38,
          "metadata": {},
          "output_type": "execute_result"
        }
      ],
      "source": [
        "cosine_sim"
      ]
    },
    {
      "cell_type": "markdown",
      "metadata": {
        "id": "I9zhK-G6KXXy"
      },
      "source": [
        "Nilai hasil cosine similarity berada di antara 0 dan 1, di mana nilai 1 berarti sangat mirip dan 0 berarti tidak mirip sama sekali."
      ]
    },
    {
      "cell_type": "code",
      "execution_count": 39,
      "metadata": {
        "colab": {
          "base_uri": "https://localhost:8080/"
        },
        "id": "c7eKnDlpF4xH",
        "outputId": "35d0a275-698f-4f20-d8ba-9dcdbb906180"
      },
      "outputs": [
        {
          "name": "stdout",
          "output_type": "stream",
          "text": [
            "Shape: (9761, 9761)\n"
          ]
        }
      ],
      "source": [
        "cosine_sim_df = pd.DataFrame(\n",
        "    cosine_sim,\n",
        "    index=df_new['title'],\n",
        "    columns=df_new['title']\n",
        ")\n",
        "print('Shape:', cosine_sim_df.shape)"
      ]
    },
    {
      "cell_type": "code",
      "execution_count": 40,
      "metadata": {
        "colab": {
          "base_uri": "https://localhost:8080/",
          "height": 724
        },
        "id": "cjou2SJiGPIt",
        "outputId": "57d367c8-9503-478e-d5fe-32eff9da2fa3"
      },
      "outputs": [
        {
          "data": {
            "text/html": [
              "\n",
              "  <div id=\"df-c16827a3-2bee-4fbe-a871-bb109cee0774\" class=\"colab-df-container\">\n",
              "    <div>\n",
              "<style scoped>\n",
              "    .dataframe tbody tr th:only-of-type {\n",
              "        vertical-align: middle;\n",
              "    }\n",
              "\n",
              "    .dataframe tbody tr th {\n",
              "        vertical-align: top;\n",
              "    }\n",
              "\n",
              "    .dataframe thead th {\n",
              "        text-align: right;\n",
              "    }\n",
              "</style>\n",
              "<table border=\"1\" class=\"dataframe\">\n",
              "  <thead>\n",
              "    <tr style=\"text-align: right;\">\n",
              "      <th>title</th>\n",
              "      <th>learn to trade using technical analysis</th>\n",
              "      <th>qpon bootcamp - extreme couponing for beginners!</th>\n",
              "      <th>diagnosis evolution: the icd-9 to icd-10 transition</th>\n",
              "      <th>the business of video and photography</th>\n",
              "      <th>create and launch your podcast website with wordpress</th>\n",
              "    </tr>\n",
              "    <tr>\n",
              "      <th>title</th>\n",
              "      <th></th>\n",
              "      <th></th>\n",
              "      <th></th>\n",
              "      <th></th>\n",
              "      <th></th>\n",
              "    </tr>\n",
              "  </thead>\n",
              "  <tbody>\n",
              "    <tr>\n",
              "      <th>3 low cost business tips by america's #1 wine brand founders</th>\n",
              "      <td>0.364522</td>\n",
              "      <td>0.304973</td>\n",
              "      <td>0.393339</td>\n",
              "      <td>0.397099</td>\n",
              "      <td>0.411656</td>\n",
              "    </tr>\n",
              "    <tr>\n",
              "      <th>modeling workflow patterns in tibco business studio</th>\n",
              "      <td>0.339454</td>\n",
              "      <td>0.305845</td>\n",
              "      <td>0.349135</td>\n",
              "      <td>0.337112</td>\n",
              "      <td>0.380987</td>\n",
              "    </tr>\n",
              "    <tr>\n",
              "      <th>minutes of a meeting basic intro course</th>\n",
              "      <td>0.297514</td>\n",
              "      <td>0.268057</td>\n",
              "      <td>0.305999</td>\n",
              "      <td>0.269197</td>\n",
              "      <td>0.333915</td>\n",
              "    </tr>\n",
              "    <tr>\n",
              "      <th>learn the basics about saving, investing &amp; managing credit</th>\n",
              "      <td>0.461575</td>\n",
              "      <td>0.354971</td>\n",
              "      <td>0.411229</td>\n",
              "      <td>0.365292</td>\n",
              "      <td>0.446408</td>\n",
              "    </tr>\n",
              "    <tr>\n",
              "      <th>amazon affiliate marketing using authority site (beginners)</th>\n",
              "      <td>0.444978</td>\n",
              "      <td>0.303001</td>\n",
              "      <td>0.427493</td>\n",
              "      <td>0.453012</td>\n",
              "      <td>0.415412</td>\n",
              "    </tr>\n",
              "    <tr>\n",
              "      <th>government contracting for everyone</th>\n",
              "      <td>0.405698</td>\n",
              "      <td>0.317435</td>\n",
              "      <td>0.455034</td>\n",
              "      <td>0.454552</td>\n",
              "      <td>0.460531</td>\n",
              "    </tr>\n",
              "    <tr>\n",
              "      <th>how to read p&amp;id, pfd &amp; bfd used in process plant like pro</th>\n",
              "      <td>0.400283</td>\n",
              "      <td>0.295660</td>\n",
              "      <td>0.462732</td>\n",
              "      <td>0.480380</td>\n",
              "      <td>0.456278</td>\n",
              "    </tr>\n",
              "    <tr>\n",
              "      <th>digital strategy &amp; transformation for business executives</th>\n",
              "      <td>0.359496</td>\n",
              "      <td>0.323902</td>\n",
              "      <td>0.369749</td>\n",
              "      <td>0.361443</td>\n",
              "      <td>0.403481</td>\n",
              "    </tr>\n",
              "    <tr>\n",
              "      <th>the secret of a successful strategy</th>\n",
              "      <td>0.211321</td>\n",
              "      <td>0.190398</td>\n",
              "      <td>0.217348</td>\n",
              "      <td>0.191208</td>\n",
              "      <td>0.237177</td>\n",
              "    </tr>\n",
              "    <tr>\n",
              "      <th>applied unsupervised learning with python (bitcoin trading)</th>\n",
              "      <td>0.382841</td>\n",
              "      <td>0.278337</td>\n",
              "      <td>0.446057</td>\n",
              "      <td>0.467525</td>\n",
              "      <td>0.436877</td>\n",
              "    </tr>\n",
              "  </tbody>\n",
              "</table>\n",
              "</div>\n",
              "    <div class=\"colab-df-buttons\">\n",
              "      \n",
              "  <div class=\"colab-df-container\">\n",
              "    <button class=\"colab-df-convert\" onclick=\"convertToInteractive('df-c16827a3-2bee-4fbe-a871-bb109cee0774')\"\n",
              "            title=\"Convert this dataframe to an interactive table.\"\n",
              "            style=\"display:none;\">\n",
              "      \n",
              "  <svg xmlns=\"http://www.w3.org/2000/svg\" height=\"24px\" viewBox=\"0 -960 960 960\">\n",
              "    <path d=\"M120-120v-720h720v720H120Zm60-500h600v-160H180v160Zm220 220h160v-160H400v160Zm0 220h160v-160H400v160ZM180-400h160v-160H180v160Zm440 0h160v-160H620v160ZM180-180h160v-160H180v160Zm440 0h160v-160H620v160Z\"/>\n",
              "  </svg>\n",
              "    </button>\n",
              "    \n",
              "  <style>\n",
              "    .colab-df-container {\n",
              "      display:flex;\n",
              "      gap: 12px;\n",
              "    }\n",
              "\n",
              "    .colab-df-convert {\n",
              "      background-color: #E8F0FE;\n",
              "      border: none;\n",
              "      border-radius: 50%;\n",
              "      cursor: pointer;\n",
              "      display: none;\n",
              "      fill: #1967D2;\n",
              "      height: 32px;\n",
              "      padding: 0 0 0 0;\n",
              "      width: 32px;\n",
              "    }\n",
              "\n",
              "    .colab-df-convert:hover {\n",
              "      background-color: #E2EBFA;\n",
              "      box-shadow: 0px 1px 2px rgba(60, 64, 67, 0.3), 0px 1px 3px 1px rgba(60, 64, 67, 0.15);\n",
              "      fill: #174EA6;\n",
              "    }\n",
              "\n",
              "    .colab-df-buttons div {\n",
              "      margin-bottom: 4px;\n",
              "    }\n",
              "\n",
              "    [theme=dark] .colab-df-convert {\n",
              "      background-color: #3B4455;\n",
              "      fill: #D2E3FC;\n",
              "    }\n",
              "\n",
              "    [theme=dark] .colab-df-convert:hover {\n",
              "      background-color: #434B5C;\n",
              "      box-shadow: 0px 1px 3px 1px rgba(0, 0, 0, 0.15);\n",
              "      filter: drop-shadow(0px 1px 2px rgba(0, 0, 0, 0.3));\n",
              "      fill: #FFFFFF;\n",
              "    }\n",
              "  </style>\n",
              "\n",
              "    <script>\n",
              "      const buttonEl =\n",
              "        document.querySelector('#df-c16827a3-2bee-4fbe-a871-bb109cee0774 button.colab-df-convert');\n",
              "      buttonEl.style.display =\n",
              "        google.colab.kernel.accessAllowed ? 'block' : 'none';\n",
              "\n",
              "      async function convertToInteractive(key) {\n",
              "        const element = document.querySelector('#df-c16827a3-2bee-4fbe-a871-bb109cee0774');\n",
              "        const dataTable =\n",
              "          await google.colab.kernel.invokeFunction('convertToInteractive',\n",
              "                                                    [key], {});\n",
              "        if (!dataTable) return;\n",
              "\n",
              "        const docLinkHtml = 'Like what you see? Visit the ' +\n",
              "          '<a target=\"_blank\" href=https://colab.research.google.com/notebooks/data_table.ipynb>data table notebook</a>'\n",
              "          + ' to learn more about interactive tables.';\n",
              "        element.innerHTML = '';\n",
              "        dataTable['output_type'] = 'display_data';\n",
              "        await google.colab.output.renderOutput(dataTable, element);\n",
              "        const docLink = document.createElement('div');\n",
              "        docLink.innerHTML = docLinkHtml;\n",
              "        element.appendChild(docLink);\n",
              "      }\n",
              "    </script>\n",
              "  </div>\n",
              "  \n",
              "    </div>\n",
              "  </div>\n",
              "  "
            ],
            "text/plain": [
              "title                                               learn to trade using technical analysis  \\\n",
              "title                                                                                         \n",
              "3 low cost business tips by america's #1 wine b...                                 0.364522   \n",
              "modeling workflow patterns in tibco business st...                                 0.339454   \n",
              "minutes of a meeting basic intro course                                            0.297514   \n",
              "learn the basics about saving, investing & mana...                                 0.461575   \n",
              "amazon affiliate marketing using authority site...                                 0.444978   \n",
              "government contracting for everyone                                                0.405698   \n",
              "how to read p&id, pfd & bfd used in process pla...                                 0.400283   \n",
              "digital strategy & transformation for business ...                                 0.359496   \n",
              "the secret of a successful strategy                                                0.211321   \n",
              "applied unsupervised learning with python (bitc...                                 0.382841   \n",
              "\n",
              "title                                               qpon bootcamp - extreme couponing for beginners!  \\\n",
              "title                                                                                                  \n",
              "3 low cost business tips by america's #1 wine b...                                          0.304973   \n",
              "modeling workflow patterns in tibco business st...                                          0.305845   \n",
              "minutes of a meeting basic intro course                                                     0.268057   \n",
              "learn the basics about saving, investing & mana...                                          0.354971   \n",
              "amazon affiliate marketing using authority site...                                          0.303001   \n",
              "government contracting for everyone                                                         0.317435   \n",
              "how to read p&id, pfd & bfd used in process pla...                                          0.295660   \n",
              "digital strategy & transformation for business ...                                          0.323902   \n",
              "the secret of a successful strategy                                                         0.190398   \n",
              "applied unsupervised learning with python (bitc...                                          0.278337   \n",
              "\n",
              "title                                               diagnosis evolution: the icd-9 to icd-10 transition  \\\n",
              "title                                                                                                     \n",
              "3 low cost business tips by america's #1 wine b...                                           0.393339     \n",
              "modeling workflow patterns in tibco business st...                                           0.349135     \n",
              "minutes of a meeting basic intro course                                                      0.305999     \n",
              "learn the basics about saving, investing & mana...                                           0.411229     \n",
              "amazon affiliate marketing using authority site...                                           0.427493     \n",
              "government contracting for everyone                                                          0.455034     \n",
              "how to read p&id, pfd & bfd used in process pla...                                           0.462732     \n",
              "digital strategy & transformation for business ...                                           0.369749     \n",
              "the secret of a successful strategy                                                          0.217348     \n",
              "applied unsupervised learning with python (bitc...                                           0.446057     \n",
              "\n",
              "title                                               the business of video and photography  \\\n",
              "title                                                                                       \n",
              "3 low cost business tips by america's #1 wine b...                               0.397099   \n",
              "modeling workflow patterns in tibco business st...                               0.337112   \n",
              "minutes of a meeting basic intro course                                          0.269197   \n",
              "learn the basics about saving, investing & mana...                               0.365292   \n",
              "amazon affiliate marketing using authority site...                               0.453012   \n",
              "government contracting for everyone                                              0.454552   \n",
              "how to read p&id, pfd & bfd used in process pla...                               0.480380   \n",
              "digital strategy & transformation for business ...                               0.361443   \n",
              "the secret of a successful strategy                                              0.191208   \n",
              "applied unsupervised learning with python (bitc...                               0.467525   \n",
              "\n",
              "title                                               create and launch your podcast website with wordpress  \n",
              "title                                                                                                      \n",
              "3 low cost business tips by america's #1 wine b...                                           0.411656      \n",
              "modeling workflow patterns in tibco business st...                                           0.380987      \n",
              "minutes of a meeting basic intro course                                                      0.333915      \n",
              "learn the basics about saving, investing & mana...                                           0.446408      \n",
              "amazon affiliate marketing using authority site...                                           0.415412      \n",
              "government contracting for everyone                                                          0.460531      \n",
              "how to read p&id, pfd & bfd used in process pla...                                           0.456278      \n",
              "digital strategy & transformation for business ...                                           0.403481      \n",
              "the secret of a successful strategy                                                          0.237177      \n",
              "applied unsupervised learning with python (bitc...                                           0.436877      "
            ]
          },
          "execution_count": 40,
          "metadata": {},
          "output_type": "execute_result"
        }
      ],
      "source": [
        "cosine_sim_df.sample(5, axis=1).sample(10, axis=0)"
      ]
    },
    {
      "cell_type": "markdown",
      "metadata": {
        "id": "f6Yq-zLmKtkm"
      },
      "source": [
        "Dataframe diatas adalah salah satu matriks kesamaan antar course. Semakin mendekati angka 1 maka course dapat dikatakan memiliki kesamaan yang tinggi. Sebagai contoh, Course \"how i used networking to triple my business in 6 months\" memiliki kesamaan 54% dengan \"drop shipping 2.0 (more traffic & less competition)\""
      ]
    },
    {
      "cell_type": "markdown",
      "metadata": {
        "id": "x3u1Zd94HK-T"
      },
      "source": [
        "### Mendapatkan Rekomendasi"
      ]
    },
    {
      "cell_type": "markdown",
      "metadata": {
        "id": "xA_1BszpLDWV"
      },
      "source": [
        "Berikut ini adalah fungsi untuk mendapatkan rekomendasi berdasarkan judul course."
      ]
    },
    {
      "cell_type": "code",
      "execution_count": 41,
      "metadata": {
        "id": "s78evXKtTbqY"
      },
      "outputs": [],
      "source": [
        "def rekomendasi_kursus(title, cosine_sim_df, top_n=5):\n",
        "    title = title.strip().lower()\n",
        "    if title not in cosine_sim_df.index:\n",
        "        print(f\"Judul '{title}' tidak ditemukan.\")\n",
        "        return []\n",
        "\n",
        "    scores = cosine_sim_df.loc[title].sort_values(ascending=False)[1:top_n+1]\n",
        "    return list(zip(scores.index, scores.values))"
      ]
    },
    {
      "cell_type": "code",
      "execution_count": 42,
      "metadata": {
        "colab": {
          "base_uri": "https://localhost:8080/"
        },
        "id": "knIpQvTiHOtX",
        "outputId": "1741450b-5a5f-430a-f7bd-2846bffcff55"
      },
      "outputs": [
        {
          "name": "stdout",
          "output_type": "stream",
          "text": [
            "Rekomendasi untuk 'hands-on hadoop masterclass - tame the big data!':\n",
            "\n",
            "1. the ultimate hands-on hadoop - tame your big data! | Similarity: 0.9362\n",
            "2. big data and hadoop for beginners - with hands-on! | Similarity: 0.8550\n",
            "3. taming big data with mapreduce and hadoop - hands on! | Similarity: 0.7175\n",
            "4. hands-on pyspark for big data analysis | Similarity: 0.7009\n",
            "5. business analytics with big data : a complete guide | Similarity: 0.6460\n"
          ]
        }
      ],
      "source": [
        "judul = \"hands-on hadoop masterclass - tame the big data!\"\n",
        "hasil = rekomendasi_kursus(judul, cosine_sim_df, top_n=5)\n",
        "\n",
        "print(f\"Rekomendasi untuk '{judul}':\\n\")\n",
        "for i, (judul_rekom, skor) in enumerate(hasil, 1):\n",
        "    print(f\"{i}. {judul_rekom} | Similarity: {skor:.4f}\")"
      ]
    },
    {
      "cell_type": "markdown",
      "metadata": {
        "id": "SsVRZ7IVLJ0L"
      },
      "source": [
        "Tampak bahwa pada percobaan diatas, ketika dimasukan judul sebuah course, didapatkan 5 rekomendasi dari yang tertinggi.\n",
        "\n",
        "Input : \"Big Data and Hadoop for Beginners - with Hands-on!\"\n",
        "\n",
        "Rekomendasi tertinggi : \"The Ultimate Hands-On Hadoop - Tame your Big Data!\"\n",
        "\n",
        "dengan kesamaan 93%"
      ]
    },
    {
      "cell_type": "markdown",
      "metadata": {
        "id": "YP9aOv2iTdb6"
      },
      "source": [
        "## Pendekatan Umum (Cosine + TFIDF)"
      ]
    },
    {
      "cell_type": "markdown",
      "metadata": {
        "id": "cleO7-5wlfCA"
      },
      "source": [
        "**Content-Based Filtering (TF-IDF + Cosine Similarity)**\n",
        "\n",
        "Pendekatan ini menggunakan judul kursus (title) untuk menghitung kemiripan antar kursus berdasarkan teks menggunakan TF-IDF dan cosine similarity. Rekomendasi diberikan berdasarkan kemiripan konten.\n",
        "\n",
        "Kelebihan:\n",
        "- Tidak memerlukan data pengguna.\n",
        "\n",
        "- Bisa merekomendasikan kursus baru selama judul tersedia.\n",
        "\n",
        "- Relevan secara tematik karena berbasis konten.\n",
        "\n",
        "Kekurangan:\n",
        "- Tidak mempertimbangkan rating atau popularitas kursus.\n",
        "\n",
        "- Kemiripan terbatas hanya pada teks, bisa menimbulkan bias jika judul kursus ambigu atau terlalu umum.\n",
        "\n",
        "- Tidak bisa mengenali kursus yang bagus tapi dengan judul yang berbeda secara semantik.\n",
        "\n"
      ]
    },
    {
      "cell_type": "code",
      "execution_count": 43,
      "metadata": {
        "colab": {
          "base_uri": "https://localhost:8080/"
        },
        "id": "8lTfONW6TdmY",
        "outputId": "ba488cf4-0986-4952-9f58-f9abea84461d"
      },
      "outputs": [
        {
          "data": {
            "text/plain": [
              "(9761, 5737)"
            ]
          },
          "execution_count": 43,
          "metadata": {},
          "output_type": "execute_result"
        }
      ],
      "source": [
        "tfidf_matrix_2 = tfidf.fit_transform(df_new['title'])\n",
        "\n",
        "tfidf_matrix_2.shape"
      ]
    },
    {
      "cell_type": "code",
      "execution_count": 44,
      "metadata": {
        "colab": {
          "base_uri": "https://localhost:8080/"
        },
        "id": "YkAfMTdXnUL4",
        "outputId": "39adee11-fd59-4ba3-f341-3ff729e2b8ce"
      },
      "outputs": [
        {
          "data": {
            "text/plain": [
              "matrix([[0., 0., 0., ..., 0., 0., 0.],\n",
              "        [0., 0., 0., ..., 0., 0., 0.],\n",
              "        [0., 0., 0., ..., 0., 0., 0.],\n",
              "        ...,\n",
              "        [0., 0., 0., ..., 0., 0., 0.],\n",
              "        [0., 0., 0., ..., 0., 0., 0.],\n",
              "        [0., 0., 0., ..., 0., 0., 0.]])"
            ]
          },
          "execution_count": 44,
          "metadata": {},
          "output_type": "execute_result"
        }
      ],
      "source": [
        "tfidf_matrix_2.todense()"
      ]
    },
    {
      "cell_type": "code",
      "execution_count": 45,
      "metadata": {
        "colab": {
          "base_uri": "https://localhost:8080/"
        },
        "id": "zo0XW4hqngrl",
        "outputId": "9e152c44-cf1f-4292-a441-af14327d4954"
      },
      "outputs": [
        {
          "data": {
            "text/plain": [
              "array([[1.        , 0.07272131, 0.21965195, ..., 0.        , 0.        ,\n",
              "        0.        ],\n",
              "       [0.07272131, 1.        , 0.09959218, ..., 0.        , 0.        ,\n",
              "        0.10775604],\n",
              "       [0.21965195, 0.09959218, 1.        , ..., 0.09540136, 0.        ,\n",
              "        0.        ],\n",
              "       ...,\n",
              "       [0.        , 0.        , 0.09540136, ..., 1.        , 0.        ,\n",
              "        0.        ],\n",
              "       [0.        , 0.        , 0.        , ..., 0.        , 1.        ,\n",
              "        0.        ],\n",
              "       [0.        , 0.10775604, 0.        , ..., 0.        , 0.        ,\n",
              "        1.        ]])"
            ]
          },
          "execution_count": 45,
          "metadata": {},
          "output_type": "execute_result"
        }
      ],
      "source": [
        "cosine_sim_2 = cosine_similarity(tfidf_matrix_2)\n",
        "cosine_sim_2"
      ]
    },
    {
      "cell_type": "code",
      "execution_count": 46,
      "metadata": {
        "colab": {
          "base_uri": "https://localhost:8080/"
        },
        "id": "pTDWXlednn2T",
        "outputId": "c969f74d-9089-4182-aee5-a98fbb5546c7"
      },
      "outputs": [
        {
          "name": "stdout",
          "output_type": "stream",
          "text": [
            "Shape: (9761, 9761)\n"
          ]
        }
      ],
      "source": [
        "cosine_sim_df_2 = pd.DataFrame(\n",
        "    cosine_sim_2,\n",
        "    index=df_new['title'],\n",
        "    columns=df_new['title']\n",
        ")\n",
        "print('Shape:', cosine_sim_df_2.shape)"
      ]
    },
    {
      "cell_type": "code",
      "execution_count": 47,
      "metadata": {
        "colab": {
          "base_uri": "https://localhost:8080/",
          "height": 742
        },
        "id": "na8qvRZLnrYt",
        "outputId": "7c503cf3-48bb-4f8e-8a72-6bcb3e42ba71"
      },
      "outputs": [
        {
          "data": {
            "text/html": [
              "\n",
              "  <div id=\"df-08c9a7ab-1cf5-4e84-9e25-e076153d2a91\" class=\"colab-df-container\">\n",
              "    <div>\n",
              "<style scoped>\n",
              "    .dataframe tbody tr th:only-of-type {\n",
              "        vertical-align: middle;\n",
              "    }\n",
              "\n",
              "    .dataframe tbody tr th {\n",
              "        vertical-align: top;\n",
              "    }\n",
              "\n",
              "    .dataframe thead th {\n",
              "        text-align: right;\n",
              "    }\n",
              "</style>\n",
              "<table border=\"1\" class=\"dataframe\">\n",
              "  <thead>\n",
              "    <tr style=\"text-align: right;\">\n",
              "      <th>title</th>\n",
              "      <th>become a great presenter and increase your influence</th>\n",
              "      <th>the project management course: beginner to project manager</th>\n",
              "      <th>protect your creative works with us copyright registration</th>\n",
              "      <th>beginners guide to creating your own wordpress web shop</th>\n",
              "      <th>introduction to the actuarial exams</th>\n",
              "    </tr>\n",
              "    <tr>\n",
              "      <th>title</th>\n",
              "      <th></th>\n",
              "      <th></th>\n",
              "      <th></th>\n",
              "      <th></th>\n",
              "      <th></th>\n",
              "    </tr>\n",
              "  </thead>\n",
              "  <tbody>\n",
              "    <tr>\n",
              "      <th>investing 101: asset classes</th>\n",
              "      <td>0.000000</td>\n",
              "      <td>0.000000</td>\n",
              "      <td>0.0</td>\n",
              "      <td>0.000000</td>\n",
              "      <td>0.0</td>\n",
              "    </tr>\n",
              "    <tr>\n",
              "      <th>how to overcome the fear of starting  your own business</th>\n",
              "      <td>0.000000</td>\n",
              "      <td>0.000000</td>\n",
              "      <td>0.0</td>\n",
              "      <td>0.000000</td>\n",
              "      <td>0.0</td>\n",
              "    </tr>\n",
              "    <tr>\n",
              "      <th>primavera p6: oracle primavera project scheduling training</th>\n",
              "      <td>0.000000</td>\n",
              "      <td>0.148322</td>\n",
              "      <td>0.0</td>\n",
              "      <td>0.000000</td>\n",
              "      <td>0.0</td>\n",
              "    </tr>\n",
              "    <tr>\n",
              "      <th>from complete beginner to consistent forex professional.</th>\n",
              "      <td>0.000000</td>\n",
              "      <td>0.165524</td>\n",
              "      <td>0.0</td>\n",
              "      <td>0.000000</td>\n",
              "      <td>0.0</td>\n",
              "    </tr>\n",
              "    <tr>\n",
              "      <th>use linkedin to find investors</th>\n",
              "      <td>0.000000</td>\n",
              "      <td>0.000000</td>\n",
              "      <td>0.0</td>\n",
              "      <td>0.000000</td>\n",
              "      <td>0.0</td>\n",
              "    </tr>\n",
              "    <tr>\n",
              "      <th>dropshipping basics: the beginner's guide to amazon fba</th>\n",
              "      <td>0.000000</td>\n",
              "      <td>0.160361</td>\n",
              "      <td>0.0</td>\n",
              "      <td>0.085962</td>\n",
              "      <td>0.0</td>\n",
              "    </tr>\n",
              "    <tr>\n",
              "      <th>compare project management software 2019</th>\n",
              "      <td>0.000000</td>\n",
              "      <td>0.308269</td>\n",
              "      <td>0.0</td>\n",
              "      <td>0.000000</td>\n",
              "      <td>0.0</td>\n",
              "    </tr>\n",
              "    <tr>\n",
              "      <th>start and run a successful consulting business</th>\n",
              "      <td>0.000000</td>\n",
              "      <td>0.000000</td>\n",
              "      <td>0.0</td>\n",
              "      <td>0.000000</td>\n",
              "      <td>0.0</td>\n",
              "    </tr>\n",
              "    <tr>\n",
              "      <th>consulting fees guide: how to increase your consulting fees</th>\n",
              "      <td>0.118754</td>\n",
              "      <td>0.000000</td>\n",
              "      <td>0.0</td>\n",
              "      <td>0.044514</td>\n",
              "      <td>0.0</td>\n",
              "    </tr>\n",
              "    <tr>\n",
              "      <th>create your online membership program</th>\n",
              "      <td>0.000000</td>\n",
              "      <td>0.000000</td>\n",
              "      <td>0.0</td>\n",
              "      <td>0.000000</td>\n",
              "      <td>0.0</td>\n",
              "    </tr>\n",
              "  </tbody>\n",
              "</table>\n",
              "</div>\n",
              "    <div class=\"colab-df-buttons\">\n",
              "      \n",
              "  <div class=\"colab-df-container\">\n",
              "    <button class=\"colab-df-convert\" onclick=\"convertToInteractive('df-08c9a7ab-1cf5-4e84-9e25-e076153d2a91')\"\n",
              "            title=\"Convert this dataframe to an interactive table.\"\n",
              "            style=\"display:none;\">\n",
              "      \n",
              "  <svg xmlns=\"http://www.w3.org/2000/svg\" height=\"24px\" viewBox=\"0 -960 960 960\">\n",
              "    <path d=\"M120-120v-720h720v720H120Zm60-500h600v-160H180v160Zm220 220h160v-160H400v160Zm0 220h160v-160H400v160ZM180-400h160v-160H180v160Zm440 0h160v-160H620v160ZM180-180h160v-160H180v160Zm440 0h160v-160H620v160Z\"/>\n",
              "  </svg>\n",
              "    </button>\n",
              "    \n",
              "  <style>\n",
              "    .colab-df-container {\n",
              "      display:flex;\n",
              "      gap: 12px;\n",
              "    }\n",
              "\n",
              "    .colab-df-convert {\n",
              "      background-color: #E8F0FE;\n",
              "      border: none;\n",
              "      border-radius: 50%;\n",
              "      cursor: pointer;\n",
              "      display: none;\n",
              "      fill: #1967D2;\n",
              "      height: 32px;\n",
              "      padding: 0 0 0 0;\n",
              "      width: 32px;\n",
              "    }\n",
              "\n",
              "    .colab-df-convert:hover {\n",
              "      background-color: #E2EBFA;\n",
              "      box-shadow: 0px 1px 2px rgba(60, 64, 67, 0.3), 0px 1px 3px 1px rgba(60, 64, 67, 0.15);\n",
              "      fill: #174EA6;\n",
              "    }\n",
              "\n",
              "    .colab-df-buttons div {\n",
              "      margin-bottom: 4px;\n",
              "    }\n",
              "\n",
              "    [theme=dark] .colab-df-convert {\n",
              "      background-color: #3B4455;\n",
              "      fill: #D2E3FC;\n",
              "    }\n",
              "\n",
              "    [theme=dark] .colab-df-convert:hover {\n",
              "      background-color: #434B5C;\n",
              "      box-shadow: 0px 1px 3px 1px rgba(0, 0, 0, 0.15);\n",
              "      filter: drop-shadow(0px 1px 2px rgba(0, 0, 0, 0.3));\n",
              "      fill: #FFFFFF;\n",
              "    }\n",
              "  </style>\n",
              "\n",
              "    <script>\n",
              "      const buttonEl =\n",
              "        document.querySelector('#df-08c9a7ab-1cf5-4e84-9e25-e076153d2a91 button.colab-df-convert');\n",
              "      buttonEl.style.display =\n",
              "        google.colab.kernel.accessAllowed ? 'block' : 'none';\n",
              "\n",
              "      async function convertToInteractive(key) {\n",
              "        const element = document.querySelector('#df-08c9a7ab-1cf5-4e84-9e25-e076153d2a91');\n",
              "        const dataTable =\n",
              "          await google.colab.kernel.invokeFunction('convertToInteractive',\n",
              "                                                    [key], {});\n",
              "        if (!dataTable) return;\n",
              "\n",
              "        const docLinkHtml = 'Like what you see? Visit the ' +\n",
              "          '<a target=\"_blank\" href=https://colab.research.google.com/notebooks/data_table.ipynb>data table notebook</a>'\n",
              "          + ' to learn more about interactive tables.';\n",
              "        element.innerHTML = '';\n",
              "        dataTable['output_type'] = 'display_data';\n",
              "        await google.colab.output.renderOutput(dataTable, element);\n",
              "        const docLink = document.createElement('div');\n",
              "        docLink.innerHTML = docLinkHtml;\n",
              "        element.appendChild(docLink);\n",
              "      }\n",
              "    </script>\n",
              "  </div>\n",
              "  \n",
              "    </div>\n",
              "  </div>\n",
              "  "
            ],
            "text/plain": [
              "title                                               become a great presenter and increase your influence  \\\n",
              "title                                                                                                      \n",
              "investing 101: asset classes                                                                 0.000000      \n",
              "how to overcome the fear of starting  your own ...                                           0.000000      \n",
              "primavera p6: oracle primavera project scheduli...                                           0.000000      \n",
              "from complete beginner to consistent forex prof...                                           0.000000      \n",
              "use linkedin to find investors                                                               0.000000      \n",
              "dropshipping basics: the beginner's guide to am...                                           0.000000      \n",
              "compare project management software 2019                                                     0.000000      \n",
              "start and run a successful consulting business                                               0.000000      \n",
              "consulting fees guide: how to increase your con...                                           0.118754      \n",
              "create your online membership program                                                        0.000000      \n",
              "\n",
              "title                                               the project management course: beginner to project manager  \\\n",
              "title                                                                                                            \n",
              "investing 101: asset classes                                                                 0.000000            \n",
              "how to overcome the fear of starting  your own ...                                           0.000000            \n",
              "primavera p6: oracle primavera project scheduli...                                           0.148322            \n",
              "from complete beginner to consistent forex prof...                                           0.165524            \n",
              "use linkedin to find investors                                                               0.000000            \n",
              "dropshipping basics: the beginner's guide to am...                                           0.160361            \n",
              "compare project management software 2019                                                     0.308269            \n",
              "start and run a successful consulting business                                               0.000000            \n",
              "consulting fees guide: how to increase your con...                                           0.000000            \n",
              "create your online membership program                                                        0.000000            \n",
              "\n",
              "title                                               protect your creative works with us copyright registration  \\\n",
              "title                                                                                                            \n",
              "investing 101: asset classes                                                                      0.0            \n",
              "how to overcome the fear of starting  your own ...                                                0.0            \n",
              "primavera p6: oracle primavera project scheduli...                                                0.0            \n",
              "from complete beginner to consistent forex prof...                                                0.0            \n",
              "use linkedin to find investors                                                                    0.0            \n",
              "dropshipping basics: the beginner's guide to am...                                                0.0            \n",
              "compare project management software 2019                                                          0.0            \n",
              "start and run a successful consulting business                                                    0.0            \n",
              "consulting fees guide: how to increase your con...                                                0.0            \n",
              "create your online membership program                                                             0.0            \n",
              "\n",
              "title                                               beginners guide to creating your own wordpress web shop  \\\n",
              "title                                                                                                         \n",
              "investing 101: asset classes                                                                 0.000000         \n",
              "how to overcome the fear of starting  your own ...                                           0.000000         \n",
              "primavera p6: oracle primavera project scheduli...                                           0.000000         \n",
              "from complete beginner to consistent forex prof...                                           0.000000         \n",
              "use linkedin to find investors                                                               0.000000         \n",
              "dropshipping basics: the beginner's guide to am...                                           0.085962         \n",
              "compare project management software 2019                                                     0.000000         \n",
              "start and run a successful consulting business                                               0.000000         \n",
              "consulting fees guide: how to increase your con...                                           0.044514         \n",
              "create your online membership program                                                        0.000000         \n",
              "\n",
              "title                                               introduction to the actuarial exams  \n",
              "title                                                                                    \n",
              "investing 101: asset classes                                                        0.0  \n",
              "how to overcome the fear of starting  your own ...                                  0.0  \n",
              "primavera p6: oracle primavera project scheduli...                                  0.0  \n",
              "from complete beginner to consistent forex prof...                                  0.0  \n",
              "use linkedin to find investors                                                      0.0  \n",
              "dropshipping basics: the beginner's guide to am...                                  0.0  \n",
              "compare project management software 2019                                            0.0  \n",
              "start and run a successful consulting business                                      0.0  \n",
              "consulting fees guide: how to increase your con...                                  0.0  \n",
              "create your online membership program                                               0.0  "
            ]
          },
          "execution_count": 47,
          "metadata": {},
          "output_type": "execute_result"
        }
      ],
      "source": [
        "cosine_sim_df_2.sample(5, axis=1).sample(10, axis=0)"
      ]
    },
    {
      "cell_type": "markdown",
      "metadata": {
        "id": "r_fgYiUgtNNv"
      },
      "source": [
        "Dengan menggunakan pendekatan yang sama seperti sebelumnya namun dengan fitur yang berbeda, terlihat bahwa nilai cosine similarity yang dihasilkan cenderung rendah dan mendekati nol. Hal ini menunjukkan bahwa tingkat kemiripan antar data sulit dibedakan, sehingga menghasilkan rekomendasi yang kurang akurat atau tidak relevan."
      ]
    },
    {
      "cell_type": "code",
      "execution_count": 48,
      "metadata": {
        "colab": {
          "base_uri": "https://localhost:8080/"
        },
        "id": "M7IOxbCnn-W7",
        "outputId": "5c5937b8-1f22-4eb0-a7d7-cc3ffc3e5f5d"
      },
      "outputs": [
        {
          "data": {
            "text/plain": [
              "[('hands-on hadoop masterclass - tame the big data!',\n",
              "  np.float64(0.7474471550412047)),\n",
              " ('the ultimate hands-on hadoop - tame your big data!',\n",
              "  np.float64(0.7438557334573)),\n",
              " ('taming big data with mapreduce and hadoop - hands on!',\n",
              "  np.float64(0.6715521429058737)),\n",
              " ('hands-on pyspark for big data analysis', np.float64(0.5421546337539548)),\n",
              " ('fundamentals of data analysis for big data',\n",
              "  np.float64(0.46915882287592925))]"
            ]
          },
          "execution_count": 48,
          "metadata": {},
          "output_type": "execute_result"
        }
      ],
      "source": [
        "judul = \"Big Data and Hadoop for Beginners - with Hands-on!\"\n",
        "rekomendasi_kursus(judul, cosine_sim_df_2)"
      ]
    },
    {
      "cell_type": "markdown",
      "metadata": {
        "id": "D_sI6Qo9vIbM"
      },
      "source": [
        "Tampak bahwa pada percobaan diatas, ketika dimasukan judul sebuah course, didapatkan 5 rekomendasi dari yang tertinggi.\n",
        "\n",
        "Input : \"Big Data and Hadoop for Beginners - with Hands-on!\"\n",
        "\n",
        "Rekomendasi tertinggi : \"hands-on hadoop masterclass - tame the big data!\"\n",
        "\n",
        "dengan kesamaan 74%"
      ]
    },
    {
      "cell_type": "markdown",
      "metadata": {
        "id": "if8jP0fRTfE3"
      },
      "source": [
        "# Evaluasi"
      ]
    },
    {
      "cell_type": "markdown",
      "metadata": {
        "id": "aX6Ke0QAm4Zi"
      },
      "source": [
        "Pada tahap ini akan dilakukan evaluasi terhadap Kedua Pendekatan tersebut. Kita akan menggunakan rating sebagai proxy relevansi, dmna :\n",
        "1. Kursus dianggap relevan jika rating >= 4.0\n",
        "\n",
        "2. Kursus dianggap tidak relevan jika rating < 4.0\n"
      ]
    },
    {
      "cell_type": "markdown",
      "metadata": {
        "id": "SVrCi00Zm9OO"
      },
      "source": [
        "Langkah-Langkah :\n",
        "1. Ambil rekomendasi dari fungsi yang sudha dibuat sebelumnya.\n",
        "2. Tentukan relevansi dari hasil rekomendasi berdasarkan rating.\n",
        "3. Hitung matrik evaluasi : Precision, Recall, F1, NDCG"
      ]
    },
    {
      "cell_type": "code",
      "execution_count": 49,
      "metadata": {
        "id": "PnWlUrGGpYQg"
      },
      "outputs": [],
      "source": [
        "def evaluasi_rekomendasi(judul_input, df, similarity_df, k=5, rating_threshold=4.0):\n",
        "    judul_input = judul_input.strip().lower()\n",
        "    rekomendasi_with_score = rekomendasi_kursus(judul_input, similarity_df, top_n=k)\n",
        "    rekomendasi = [judul for judul, _ in rekomendasi_with_score]\n",
        "\n",
        "    # Ambil rating dari judul yang direkomendasikan\n",
        "    rekomendasi_rating = df[df['title'].isin(rekomendasi)]['rating']\n",
        "    relevansi = [1 if r >= rating_threshold else 0 for r in rekomendasi_rating]\n",
        "\n",
        "    precision = sum(relevansi) / k\n",
        "    total_relevan_aktual = df[df['rating'] >= rating_threshold]\n",
        "    recall = sum(relevansi) / len(total_relevan_aktual) if len(total_relevan_aktual) > 0 else 0\n",
        "    f1 = 2 * precision * recall / (precision + recall) if (precision + recall) else 0\n",
        "\n",
        "    def ndcg_at_k(relevansi, k):\n",
        "        relevansi = np.array(relevansi)[:k]\n",
        "        dcg = np.sum((2 ** relevansi - 1) / np.log2(np.arange(2, relevansi.size + 2)))\n",
        "        ideal_relevansi = np.sort(relevansi)[::-1]\n",
        "        idcg = np.sum((2 ** ideal_relevansi - 1) / np.log2(np.arange(2, ideal_relevansi.size + 2)))\n",
        "        return dcg / idcg if idcg > 0 else 0.0\n",
        "\n",
        "    ndcg = ndcg_at_k(relevansi, k)\n",
        "\n",
        "    return {\n",
        "        'Precision': round(precision, 3),\n",
        "        'Recall': round(recall, 3),\n",
        "        'F1': round(f1, 3),\n",
        "        'NDCG': round(ndcg, 3),\n",
        "        'Relevansi': relevansi,\n",
        "        'Rekomendasi': rekomendasi_with_score\n",
        "    }\n"
      ]
    },
    {
      "cell_type": "markdown",
      "metadata": {
        "id": "YzQVNcIi0aoN"
      },
      "source": [
        "## Hybrid"
      ]
    },
    {
      "cell_type": "code",
      "execution_count": 50,
      "metadata": {
        "colab": {
          "base_uri": "https://localhost:8080/"
        },
        "id": "bo-txZspt1vH",
        "outputId": "9d60a88a-ca17-4497-8301-108f034280d5"
      },
      "outputs": [
        {
          "name": "stdout",
          "output_type": "stream",
          "text": [
            "Evaluasi Rekomendasi:\n",
            "Precision: 0.8\n",
            "Recall: 0.001\n",
            "F1: 0.001\n",
            "NDCG: 0.983\n",
            "\n",
            "Rekomendasi Judul: [('the ultimate hands-on hadoop - tame your big data!', np.float64(0.9361723027885043)), ('big data and hadoop for beginners - with hands-on!', np.float64(0.8549947892181561)), ('taming big data with mapreduce and hadoop - hands on!', np.float64(0.7175205419414169)), ('hands-on pyspark for big data analysis', np.float64(0.7009208372332177)), ('business analytics with big data : a complete guide', np.float64(0.6459518116729288))]\n",
            "Relevansi: [1, 1, 1, 0, 1]\n"
          ]
        }
      ],
      "source": [
        "judul = \"hands-on hadoop masterclass - tame the big data!\"\n",
        "hasil = evaluasi_rekomendasi(judul, df_new, cosine_sim_df, k=5)\n",
        "\n",
        "print(\"Evaluasi Rekomendasi:\")\n",
        "for key, value in hasil.items():\n",
        "    if key not in ['Relevansi', 'Rekomendasi']:\n",
        "        print(f\"{key}: {value}\")\n",
        "print(\"\\nRekomendasi Judul:\", hasil['Rekomendasi'])\n",
        "print(\"Relevansi:\", hasil['Relevansi'])\n"
      ]
    },
    {
      "cell_type": "markdown",
      "metadata": {
        "id": "diY2LaQA4TGq"
      },
      "source": [
        "Berdasarkan hasil rekomendasi, dapat dijelaskan sebagai berikut :\n",
        "- Precision 0.8 = Dari 5 rekomendasi yang diberikan, 80% (yaitu 4 dari 5) memiliki rating tinggi (≥ 4.0).\n",
        "- Recall: 0.001 = Dari seluruh kursus dengan rating ≥ 4.0 di dataset (df_new), hanya 0.1% yang berhasil direkomendasikan.\n",
        "- F1-score: 0.001 = Skor gabungan antara precision dan recall juga rendah karena recall-nya sangat rendah, meskipun precision-nya bagus.\n",
        "- NDCG (Normalized Discounted Cumulative Gain): 0.983 = Urutan rekomendasi sangat baik. Judul-judul yang relevan (bernilai tinggi) muncul di urutan atas daftar rekomendasi.\n",
        "\n",
        "\n",
        "Relevansi: [1, 1, 1, 0, 1]\n",
        "\n",
        "Empat dari lima rekomendasi (baris ke-0, 1, 2, dan 4) punya rating ≥ 4.0, ditandai dengan angka 1 pada Relevansi.\n",
        "\n",
        "Hanya satu yang tidak relevan (0 → baris ke-3: \"hands-on pyspark...\").\n"
      ]
    },
    {
      "cell_type": "markdown",
      "metadata": {
        "id": "Jme-mbRQ0cWD"
      },
      "source": [
        "## Umum"
      ]
    },
    {
      "cell_type": "code",
      "execution_count": 51,
      "metadata": {
        "colab": {
          "base_uri": "https://localhost:8080/"
        },
        "id": "kNy7nWONyuUj",
        "outputId": "8147aa7e-22c4-4e92-cb49-4d9a192a2041"
      },
      "outputs": [
        {
          "name": "stdout",
          "output_type": "stream",
          "text": [
            "Evaluasi Rekomendasi:\n",
            "Precision: 1.0\n",
            "Recall: 0.001\n",
            "F1: 0.002\n",
            "NDCG: 1.0\n",
            "\n",
            "Rekomendasi Judul: [('the ultimate hands-on hadoop - tame your big data!', np.float64(0.914517930895829)), ('big data and hadoop for beginners - with hands-on!', np.float64(0.7474471550412047)), ('taming big data with mapreduce and hadoop - hands on!', np.float64(0.562262586918968)), ('hands-on pyspark for big data analysis', np.float64(0.4539234519683907)), ('fundamentals of data analysis for big data', np.float64(0.3928071054685791))]\n",
            "Relevansi: [1, 1, 1, 1, 1]\n"
          ]
        }
      ],
      "source": [
        "judul = \"hands-on hadoop masterclass - tame the big data!\"\n",
        "hasil = evaluasi_rekomendasi(judul, df_new, cosine_sim_df_2, k=5)\n",
        "\n",
        "print(\"Evaluasi Rekomendasi:\")\n",
        "for key, value in hasil.items():\n",
        "    if key not in ['Relevansi', 'Rekomendasi']:\n",
        "        print(f\"{key}: {value}\")\n",
        "print(\"\\nRekomendasi Judul:\", hasil['Rekomendasi'])\n",
        "print(\"Relevansi:\", hasil['Relevansi'])\n"
      ]
    },
    {
      "cell_type": "markdown",
      "metadata": {
        "id": "RI7ugLK95ENv"
      },
      "source": [
        "Berdasarkan hasil rekomendasi, dapat dijelaskan sebagai berikut :\n",
        "- Precision 1 = Dari 5 rekomendasi yang diberikan, 100% (yaitu 5 dari 5) memiliki rating tinggi (≥ 4.0).\n",
        "- Recall: 0.001 = Dari seluruh kursus dengan rating ≥ 4.0 di dataset (df_new), hanya 0.1% yang berhasil direkomendasikan.\n",
        "- F1-score: 0.002 = Skor gabungan antara precision dan recall juga rendah karena recall-nya sangat rendah, meskipun precision-nya bagus.\n",
        "- NDCG (Normalized Discounted Cumulative Gain): 1 = Urutan rekomendasi sangat baik. Judul-judul yang relevan (bernilai tinggi) muncul di urutan atas daftar rekomendasi.\n",
        "\n",
        "\n",
        "Relevansi: [1, 1, 1, 1, 1]\n",
        "\n",
        "lima rekomendasi (baris ke-0, 1, 2, dan 4) punya rating ≥ 4.0, ditandai dengan angka 1 pada Relevansi.\n"
      ]
    },
    {
      "cell_type": "code",
      "execution_count": 51,
      "metadata": {
        "id": "bRe1YrzU2CM_"
      },
      "outputs": [],
      "source": []
    }
  ],
  "metadata": {
    "accelerator": "GPU",
    "colab": {
      "collapsed_sections": [
        "fxWVGsxYFTH3",
        "pF7o62v2FeUB"
      ],
      "gpuType": "T4",
      "provenance": []
    },
    "kernelspec": {
      "display_name": "Python 3",
      "name": "python3"
    },
    "language_info": {
      "name": "python"
    }
  },
  "nbformat": 4,
  "nbformat_minor": 0
}
